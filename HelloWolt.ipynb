{
 "cells": [
  {
   "cell_type": "markdown",
   "metadata": {},
   "source": [
    "# Hello Wolt!"
   ]
  },
  {
   "cell_type": "code",
   "execution_count": 1,
   "metadata": {},
   "outputs": [
    {
     "name": "stderr",
     "output_type": "stream",
     "text": [
      "Using TensorFlow backend.\n"
     ]
    }
   ],
   "source": [
    "import pandas as pd\n",
    "import numpy as np\n",
    "from keras import Sequential\n",
    "from keras.layers import Dense, Dropout\n",
    "from sklearn.model_selection import train_test_split\n",
    "import matplotlib.pyplot as plt\n",
    "from keras.models import load_model\n",
    "from sklearn.preprocessing import MinMaxScaler"
   ]
  },
  {
   "cell_type": "markdown",
   "metadata": {},
   "source": [
    "First, we start with importing all the necessary libraries"
   ]
  },
  {
   "cell_type": "code",
   "execution_count": 2,
   "metadata": {},
   "outputs": [],
   "source": [
    "DIRECTORY = './input/'\n",
    "\n",
    "locations = pd.read_csv(DIRECTORY + 'locations.csv')\n",
    "pickup_times = pd.read_csv(DIRECTORY + 'pickup_times.csv')\n",
    "pickup_times['date'] = pd.to_datetime(pickup_times['iso_8601_timestamp'])\n",
    "pickup_times = pickup_times.drop(['iso_8601_timestamp'], axis=1)"
   ]
  },
  {
   "cell_type": "markdown",
   "metadata": {},
   "source": [
    "Next we load `locations` and `pickup_times` datasets.\n",
    "\n",
    "For `pickup_times` I parse the time into Pandas Timestamp, which is more comfortoble to work with."
   ]
  },
  {
   "cell_type": "code",
   "execution_count": 3,
   "metadata": {},
   "outputs": [],
   "source": [
    "def prepare_date(df_date):\n",
    "    weekdays_one_hot_df = pd.get_dummies(df_date.map(lambda x: x.dayofweek))\n",
    "    time_flat_series = df_date.map(lambda a: (a.hour-10)/10 + a.minute/600)\n",
    "    \n",
    "    weekdays_one_hot_df['time'] = time_flat_series\n",
    "    return weekdays_one_hot_df"
   ]
  },
  {
   "cell_type": "markdown",
   "metadata": {},
   "source": [
    "In the `prepare_date` function we import `dates` column from `pickup_times` and:\n",
    " 1. Parse weekdays and create one-hot encoded dataframe like `[1,0,0,0,0,0,0]` where `1` on 0th place represent monday. [One-how encoding](https://en.wikipedia.org/wiki/One-hot)\n",
    " 2. We encode the pickup time into simple value in range [0, 1]. Knowing that delivery day in Wolt is 10 hours we can simply take an hour (staring with 0 to 10, where 0 is 10AM and 10 is 8PM) and divide it by 10 and add minute divided by 600 (so that new minute value will be in range[0, 0.1] and nicely represent one hour).\n",
    " 3. Return the result as merged series."
   ]
  },
  {
   "cell_type": "code",
   "execution_count": 4,
   "metadata": {},
   "outputs": [],
   "source": [
    "def prepare_for_nn(df):\n",
    "    dates = prepare_date(df['date'])\n",
    "    places_dummies = pd.get_dummies(df['location_id']) # 85 locations\n",
    "    \n",
    "    return pd.concat([dates, places_dummies], axis=1).values, (df['pickup_time']/90).values\n",
    "\n",
    "X, y = prepare_for_nn(pickup_times)\n",
    "\n",
    "# X_train, X_test, y_train, y_test = train_test_split(X, y, test_size=0.33, random_state=42)"
   ]
  },
  {
   "cell_type": "markdown",
   "metadata": {},
   "source": [
    "Atfer that, we merge dates, which came from the previous step, with places ids, which are also One-Hot encoded.\n",
    "Then, just split into training/testing datasets."
   ]
  },
  {
   "cell_type": "code",
   "execution_count": 8,
   "metadata": {},
   "outputs": [],
   "source": [
    "model = Sequential()\n",
    "\n",
    "model.add(Dense(124, kernel_initializer='normal', activation='selu'))\n",
    "model.add(Dropout(0.2))\n",
    "model.add(Dense(256, kernel_initializer='normal', activation='selu'))\n",
    "model.add(Dropout(0.2))\n",
    "model.add(Dense(512, kernel_initializer='normal', activation='selu'))\n",
    "model.add(Dropout(0.2))\n",
    "model.add(Dense(256, kernel_initializer='normal', activation='selu'))\n",
    "model.add(Dropout(0.2))\n",
    "model.add(Dense(124, kernel_initializer='normal', activation='selu'))\n",
    "model.add(Dropout(0.2))\n",
    "model.add(Dense(1, kernel_initializer='normal', activation='sigmoid'))\n",
    "\n",
    "model.compile(loss='mean_squared_error', optimizer='adam', metrics=['mse', 'mae', 'mape', 'cosine'])"
   ]
  },
  {
   "cell_type": "markdown",
   "metadata": {},
   "source": [
    "Here we define a model with 11 layers: 5 hidden layers with 124-512 scaled exponential linear units, 5 dropout layers, and one output sigmoid layer.\n",
    "\n",
    "Then we will run model learning with 200 epochs."
   ]
  },
  {
   "cell_type": "code",
   "execution_count": 9,
   "metadata": {
    "scrolled": true
   },
   "outputs": [
    {
     "name": "stdout",
     "output_type": "stream",
     "text": [
      "Train on 52304 samples, validate on 13076 samples\n",
      "Epoch 1/200\n",
      "52304/52304 [==============================] - 3s 49us/step - loss: 0.0108 - mean_squared_error: 0.0108 - mean_absolute_error: 0.0841 - mean_absolute_percentage_error: 44.2714 - cosine_proximity: -1.0000 - val_loss: 0.0093 - val_mean_squared_error: 0.0093 - val_mean_absolute_error: 0.0793 - val_mean_absolute_percentage_error: 43.5553 - val_cosine_proximity: -1.0000\n",
      "Epoch 2/200\n",
      "52304/52304 [==============================] - 2s 41us/step - loss: 0.0097 - mean_squared_error: 0.0097 - mean_absolute_error: 0.0802 - mean_absolute_percentage_error: 42.4412 - cosine_proximity: -1.0000 - val_loss: 0.0089 - val_mean_squared_error: 0.0089 - val_mean_absolute_error: 0.0769 - val_mean_absolute_percentage_error: 40.8406 - val_cosine_proximity: -1.0000\n",
      "Epoch 3/200\n",
      "52304/52304 [==============================] - 2s 42us/step - loss: 0.0093 - mean_squared_error: 0.0093 - mean_absolute_error: 0.0785 - mean_absolute_percentage_error: 41.3847 - cosine_proximity: -1.0000 - val_loss: 0.0087 - val_mean_squared_error: 0.0087 - val_mean_absolute_error: 0.0754 - val_mean_absolute_percentage_error: 39.1905 - val_cosine_proximity: -1.0000\n",
      "Epoch 4/200\n",
      "52304/52304 [==============================] - 2s 40us/step - loss: 0.0091 - mean_squared_error: 0.0091 - mean_absolute_error: 0.0778 - mean_absolute_percentage_error: 40.9000 - cosine_proximity: -1.0000 - val_loss: 0.0084 - val_mean_squared_error: 0.0084 - val_mean_absolute_error: 0.0748 - val_mean_absolute_percentage_error: 40.4304 - val_cosine_proximity: -1.0000\n",
      "Epoch 5/200\n",
      "52304/52304 [==============================] - 2s 41us/step - loss: 0.0089 - mean_squared_error: 0.0089 - mean_absolute_error: 0.0767 - mean_absolute_percentage_error: 40.1729 - cosine_proximity: -1.0000 - val_loss: 0.0084 - val_mean_squared_error: 0.0084 - val_mean_absolute_error: 0.0744 - val_mean_absolute_percentage_error: 39.8548 - val_cosine_proximity: -1.0000\n",
      "Epoch 6/200\n",
      "52304/52304 [==============================] - 2s 41us/step - loss: 0.0087 - mean_squared_error: 0.0087 - mean_absolute_error: 0.0759 - mean_absolute_percentage_error: 39.4669 - cosine_proximity: -1.0000 - val_loss: 0.0081 - val_mean_squared_error: 0.0081 - val_mean_absolute_error: 0.0730 - val_mean_absolute_percentage_error: 38.5593 - val_cosine_proximity: -1.0000\n",
      "Epoch 7/200\n",
      "52304/52304 [==============================] - 2s 41us/step - loss: 0.0085 - mean_squared_error: 0.0085 - mean_absolute_error: 0.0747 - mean_absolute_percentage_error: 38.8102 - cosine_proximity: -1.0000 - val_loss: 0.0084 - val_mean_squared_error: 0.0084 - val_mean_absolute_error: 0.0741 - val_mean_absolute_percentage_error: 39.8293 - val_cosine_proximity: -1.0000\n",
      "Epoch 8/200\n",
      "52304/52304 [==============================] - 2s 40us/step - loss: 0.0085 - mean_squared_error: 0.0085 - mean_absolute_error: 0.0748 - mean_absolute_percentage_error: 38.8249 - cosine_proximity: -1.0000 - val_loss: 0.0082 - val_mean_squared_error: 0.0082 - val_mean_absolute_error: 0.0732 - val_mean_absolute_percentage_error: 37.5334 - val_cosine_proximity: -1.0000\n",
      "Epoch 9/200\n",
      "52304/52304 [==============================] - 2s 40us/step - loss: 0.0084 - mean_squared_error: 0.0084 - mean_absolute_error: 0.0744 - mean_absolute_percentage_error: 38.4888 - cosine_proximity: -1.0000 - val_loss: 0.0080 - val_mean_squared_error: 0.0080 - val_mean_absolute_error: 0.0725 - val_mean_absolute_percentage_error: 38.4968 - val_cosine_proximity: -1.0000\n",
      "Epoch 10/200\n",
      "52304/52304 [==============================] - 2s 40us/step - loss: 0.0084 - mean_squared_error: 0.0084 - mean_absolute_error: 0.0745 - mean_absolute_percentage_error: 38.5555 - cosine_proximity: -1.0000 - val_loss: 0.0081 - val_mean_squared_error: 0.0081 - val_mean_absolute_error: 0.0727 - val_mean_absolute_percentage_error: 37.3675 - val_cosine_proximity: -1.0000\n",
      "Epoch 11/200\n",
      "52304/52304 [==============================] - 2s 41us/step - loss: 0.0083 - mean_squared_error: 0.0083 - mean_absolute_error: 0.0737 - mean_absolute_percentage_error: 38.0753 - cosine_proximity: -1.0000 - val_loss: 0.0079 - val_mean_squared_error: 0.0079 - val_mean_absolute_error: 0.0720 - val_mean_absolute_percentage_error: 37.0592 - val_cosine_proximity: -1.0000\n",
      "Epoch 12/200\n",
      "52304/52304 [==============================] - 2s 41us/step - loss: 0.0083 - mean_squared_error: 0.0083 - mean_absolute_error: 0.0738 - mean_absolute_percentage_error: 38.0958 - cosine_proximity: -1.0000 - val_loss: 0.0082 - val_mean_squared_error: 0.0082 - val_mean_absolute_error: 0.0734 - val_mean_absolute_percentage_error: 38.1509 - val_cosine_proximity: -1.0000\n",
      "Epoch 13/200\n",
      "52304/52304 [==============================] - 2s 41us/step - loss: 0.0083 - mean_squared_error: 0.0083 - mean_absolute_error: 0.0737 - mean_absolute_percentage_error: 37.9622 - cosine_proximity: -1.0000 - val_loss: 0.0079 - val_mean_squared_error: 0.0079 - val_mean_absolute_error: 0.0723 - val_mean_absolute_percentage_error: 38.1129 - val_cosine_proximity: -1.0000\n",
      "Epoch 14/200\n",
      "52304/52304 [==============================] - 2s 41us/step - loss: 0.0083 - mean_squared_error: 0.0083 - mean_absolute_error: 0.0736 - mean_absolute_percentage_error: 37.9135 - cosine_proximity: -1.0000 - val_loss: 0.0082 - val_mean_squared_error: 0.0082 - val_mean_absolute_error: 0.0720 - val_mean_absolute_percentage_error: 34.3278 - val_cosine_proximity: -1.0000\n",
      "Epoch 15/200\n",
      "52304/52304 [==============================] - 2s 41us/step - loss: 0.0083 - mean_squared_error: 0.0083 - mean_absolute_error: 0.0734 - mean_absolute_percentage_error: 37.8104 - cosine_proximity: -1.0000 - val_loss: 0.0081 - val_mean_squared_error: 0.0081 - val_mean_absolute_error: 0.0721 - val_mean_absolute_percentage_error: 36.8527 - val_cosine_proximity: -1.0000\n",
      "Epoch 16/200\n",
      "52304/52304 [==============================] - 2s 41us/step - loss: 0.0082 - mean_squared_error: 0.0082 - mean_absolute_error: 0.0732 - mean_absolute_percentage_error: 37.7237 - cosine_proximity: -1.0000 - val_loss: 0.0079 - val_mean_squared_error: 0.0079 - val_mean_absolute_error: 0.0722 - val_mean_absolute_percentage_error: 38.7144 - val_cosine_proximity: -1.0000\n",
      "Epoch 17/200\n",
      "52304/52304 [==============================] - 2s 42us/step - loss: 0.0082 - mean_squared_error: 0.0082 - mean_absolute_error: 0.0732 - mean_absolute_percentage_error: 37.7113 - cosine_proximity: -1.0000 - val_loss: 0.0079 - val_mean_squared_error: 0.0079 - val_mean_absolute_error: 0.0713 - val_mean_absolute_percentage_error: 35.6386 - val_cosine_proximity: -1.0000\n",
      "Epoch 18/200\n",
      "52304/52304 [==============================] - 2s 42us/step - loss: 0.0083 - mean_squared_error: 0.0083 - mean_absolute_error: 0.0734 - mean_absolute_percentage_error: 37.7366 - cosine_proximity: -1.0000 - val_loss: 0.0077 - val_mean_squared_error: 0.0077 - val_mean_absolute_error: 0.0710 - val_mean_absolute_percentage_error: 36.7422 - val_cosine_proximity: -1.0000\n",
      "Epoch 19/200\n",
      "52304/52304 [==============================] - 2s 42us/step - loss: 0.0081 - mean_squared_error: 0.0081 - mean_absolute_error: 0.0728 - mean_absolute_percentage_error: 37.4577 - cosine_proximity: -1.0000 - val_loss: 0.0080 - val_mean_squared_error: 0.0080 - val_mean_absolute_error: 0.0723 - val_mean_absolute_percentage_error: 38.1105 - val_cosine_proximity: -1.0000\n",
      "Epoch 20/200\n",
      "52304/52304 [==============================] - 2s 42us/step - loss: 0.0082 - mean_squared_error: 0.0082 - mean_absolute_error: 0.0729 - mean_absolute_percentage_error: 37.5067 - cosine_proximity: -1.0000 - val_loss: 0.0079 - val_mean_squared_error: 0.0079 - val_mean_absolute_error: 0.0716 - val_mean_absolute_percentage_error: 35.3560 - val_cosine_proximity: -1.0000\n",
      "Epoch 21/200\n",
      "52304/52304 [==============================] - 2s 41us/step - loss: 0.0081 - mean_squared_error: 0.0081 - mean_absolute_error: 0.0728 - mean_absolute_percentage_error: 37.4360 - cosine_proximity: -1.0000 - val_loss: 0.0081 - val_mean_squared_error: 0.0081 - val_mean_absolute_error: 0.0733 - val_mean_absolute_percentage_error: 40.5015 - val_cosine_proximity: -1.0000\n",
      "Epoch 22/200\n"
     ]
    },
    {
     "name": "stdout",
     "output_type": "stream",
     "text": [
      "52304/52304 [==============================] - 2s 41us/step - loss: 0.0082 - mean_squared_error: 0.0082 - mean_absolute_error: 0.0730 - mean_absolute_percentage_error: 37.5400 - cosine_proximity: -1.0000 - val_loss: 0.0078 - val_mean_squared_error: 0.0078 - val_mean_absolute_error: 0.0714 - val_mean_absolute_percentage_error: 37.1329 - val_cosine_proximity: -1.0000\n",
      "Epoch 23/200\n",
      "52304/52304 [==============================] - 2s 40us/step - loss: 0.0081 - mean_squared_error: 0.0081 - mean_absolute_error: 0.0726 - mean_absolute_percentage_error: 37.3292 - cosine_proximity: -1.0000 - val_loss: 0.0079 - val_mean_squared_error: 0.0079 - val_mean_absolute_error: 0.0718 - val_mean_absolute_percentage_error: 38.0045 - val_cosine_proximity: -1.0000\n",
      "Epoch 24/200\n",
      "52304/52304 [==============================] - 2s 40us/step - loss: 0.0082 - mean_squared_error: 0.0082 - mean_absolute_error: 0.0729 - mean_absolute_percentage_error: 37.4175 - cosine_proximity: -1.0000 - val_loss: 0.0081 - val_mean_squared_error: 0.0081 - val_mean_absolute_error: 0.0720 - val_mean_absolute_percentage_error: 34.1307 - val_cosine_proximity: -1.0000\n",
      "Epoch 25/200\n",
      "52304/52304 [==============================] - 2s 42us/step - loss: 0.0081 - mean_squared_error: 0.0081 - mean_absolute_error: 0.0727 - mean_absolute_percentage_error: 37.4172 - cosine_proximity: -1.0000 - val_loss: 0.0078 - val_mean_squared_error: 0.0078 - val_mean_absolute_error: 0.0710 - val_mean_absolute_percentage_error: 35.7242 - val_cosine_proximity: -1.0000\n",
      "Epoch 26/200\n",
      "52304/52304 [==============================] - 2s 40us/step - loss: 0.0081 - mean_squared_error: 0.0081 - mean_absolute_error: 0.0724 - mean_absolute_percentage_error: 37.1595 - cosine_proximity: -1.0000 - val_loss: 0.0077 - val_mean_squared_error: 0.0077 - val_mean_absolute_error: 0.0706 - val_mean_absolute_percentage_error: 35.2450 - val_cosine_proximity: -1.0000\n",
      "Epoch 27/200\n",
      "52304/52304 [==============================] - 2s 42us/step - loss: 0.0081 - mean_squared_error: 0.0081 - mean_absolute_error: 0.0725 - mean_absolute_percentage_error: 37.2025 - cosine_proximity: -1.0000 - val_loss: 0.0079 - val_mean_squared_error: 0.0079 - val_mean_absolute_error: 0.0710 - val_mean_absolute_percentage_error: 34.6498 - val_cosine_proximity: -1.0000\n",
      "Epoch 28/200\n",
      "52304/52304 [==============================] - 2s 40us/step - loss: 0.0081 - mean_squared_error: 0.0081 - mean_absolute_error: 0.0725 - mean_absolute_percentage_error: 37.1537 - cosine_proximity: -1.0000 - val_loss: 0.0077 - val_mean_squared_error: 0.0077 - val_mean_absolute_error: 0.0708 - val_mean_absolute_percentage_error: 35.7959 - val_cosine_proximity: -1.0000\n",
      "Epoch 29/200\n",
      "52304/52304 [==============================] - 2s 41us/step - loss: 0.0080 - mean_squared_error: 0.0080 - mean_absolute_error: 0.0723 - mean_absolute_percentage_error: 37.1920 - cosine_proximity: -1.0000 - val_loss: 0.0078 - val_mean_squared_error: 0.0078 - val_mean_absolute_error: 0.0713 - val_mean_absolute_percentage_error: 36.1674 - val_cosine_proximity: -1.0000\n",
      "Epoch 30/200\n",
      "52304/52304 [==============================] - 2s 42us/step - loss: 0.0081 - mean_squared_error: 0.0081 - mean_absolute_error: 0.0725 - mean_absolute_percentage_error: 37.2382 - cosine_proximity: -1.0000 - val_loss: 0.0077 - val_mean_squared_error: 0.0077 - val_mean_absolute_error: 0.0711 - val_mean_absolute_percentage_error: 37.1290 - val_cosine_proximity: -1.0000\n",
      "Epoch 31/200\n",
      "52304/52304 [==============================] - 2s 42us/step - loss: 0.0081 - mean_squared_error: 0.0081 - mean_absolute_error: 0.0724 - mean_absolute_percentage_error: 37.1164 - cosine_proximity: -1.0000 - val_loss: 0.0079 - val_mean_squared_error: 0.0079 - val_mean_absolute_error: 0.0723 - val_mean_absolute_percentage_error: 38.8701 - val_cosine_proximity: -1.0000\n",
      "Epoch 32/200\n",
      "52304/52304 [==============================] - 2s 41us/step - loss: 0.0080 - mean_squared_error: 0.0080 - mean_absolute_error: 0.0724 - mean_absolute_percentage_error: 37.1640 - cosine_proximity: -1.0000 - val_loss: 0.0080 - val_mean_squared_error: 0.0080 - val_mean_absolute_error: 0.0726 - val_mean_absolute_percentage_error: 38.6987 - val_cosine_proximity: -1.0000\n",
      "Epoch 33/200\n",
      "52304/52304 [==============================] - 2s 40us/step - loss: 0.0080 - mean_squared_error: 0.0080 - mean_absolute_error: 0.0722 - mean_absolute_percentage_error: 37.0135 - cosine_proximity: -1.0000 - val_loss: 0.0077 - val_mean_squared_error: 0.0077 - val_mean_absolute_error: 0.0711 - val_mean_absolute_percentage_error: 36.8948 - val_cosine_proximity: -1.0000\n",
      "Epoch 34/200\n",
      "52304/52304 [==============================] - 2s 41us/step - loss: 0.0080 - mean_squared_error: 0.0080 - mean_absolute_error: 0.0722 - mean_absolute_percentage_error: 36.9976 - cosine_proximity: -1.0000 - val_loss: 0.0078 - val_mean_squared_error: 0.0078 - val_mean_absolute_error: 0.0710 - val_mean_absolute_percentage_error: 34.3073 - val_cosine_proximity: -1.0000\n",
      "Epoch 35/200\n",
      "52304/52304 [==============================] - 2s 40us/step - loss: 0.0080 - mean_squared_error: 0.0080 - mean_absolute_error: 0.0721 - mean_absolute_percentage_error: 36.9763 - cosine_proximity: -1.0000 - val_loss: 0.0078 - val_mean_squared_error: 0.0078 - val_mean_absolute_error: 0.0718 - val_mean_absolute_percentage_error: 38.7160 - val_cosine_proximity: -1.0000\n",
      "Epoch 36/200\n",
      "52304/52304 [==============================] - 2s 44us/step - loss: 0.0080 - mean_squared_error: 0.0080 - mean_absolute_error: 0.0722 - mean_absolute_percentage_error: 37.0224 - cosine_proximity: -1.0000 - val_loss: 0.0077 - val_mean_squared_error: 0.0077 - val_mean_absolute_error: 0.0705 - val_mean_absolute_percentage_error: 35.6436 - val_cosine_proximity: -1.0000\n",
      "Epoch 37/200\n",
      "52304/52304 [==============================] - 2s 42us/step - loss: 0.0080 - mean_squared_error: 0.0080 - mean_absolute_error: 0.0721 - mean_absolute_percentage_error: 37.0440 - cosine_proximity: -1.0000 - val_loss: 0.0077 - val_mean_squared_error: 0.0077 - val_mean_absolute_error: 0.0711 - val_mean_absolute_percentage_error: 36.7858 - val_cosine_proximity: -1.0000\n",
      "Epoch 38/200\n",
      "52304/52304 [==============================] - 2s 42us/step - loss: 0.0079 - mean_squared_error: 0.0079 - mean_absolute_error: 0.0721 - mean_absolute_percentage_error: 36.8971 - cosine_proximity: -1.0000 - val_loss: 0.0076 - val_mean_squared_error: 0.0076 - val_mean_absolute_error: 0.0704 - val_mean_absolute_percentage_error: 36.1636 - val_cosine_proximity: -1.0000\n",
      "Epoch 39/200\n",
      "52304/52304 [==============================] - 2s 41us/step - loss: 0.0080 - mean_squared_error: 0.0080 - mean_absolute_error: 0.0720 - mean_absolute_percentage_error: 36.8850 - cosine_proximity: -1.0000 - val_loss: 0.0080 - val_mean_squared_error: 0.0080 - val_mean_absolute_error: 0.0737 - val_mean_absolute_percentage_error: 41.0201 - val_cosine_proximity: -1.0000\n",
      "Epoch 40/200\n",
      "52304/52304 [==============================] - 2s 41us/step - loss: 0.0079 - mean_squared_error: 0.0079 - mean_absolute_error: 0.0719 - mean_absolute_percentage_error: 36.8591 - cosine_proximity: -1.0000 - val_loss: 0.0077 - val_mean_squared_error: 0.0077 - val_mean_absolute_error: 0.0706 - val_mean_absolute_percentage_error: 34.8535 - val_cosine_proximity: -1.0000\n",
      "Epoch 41/200\n",
      "52304/52304 [==============================] - 2s 42us/step - loss: 0.0079 - mean_squared_error: 0.0079 - mean_absolute_error: 0.0718 - mean_absolute_percentage_error: 36.7721 - cosine_proximity: -1.0000 - val_loss: 0.0076 - val_mean_squared_error: 0.0076 - val_mean_absolute_error: 0.0703 - val_mean_absolute_percentage_error: 35.9528 - val_cosine_proximity: -1.0000\n",
      "Epoch 42/200\n",
      "52304/52304 [==============================] - 2s 42us/step - loss: 0.0079 - mean_squared_error: 0.0079 - mean_absolute_error: 0.0718 - mean_absolute_percentage_error: 36.7881 - cosine_proximity: -1.0000 - val_loss: 0.0076 - val_mean_squared_error: 0.0076 - val_mean_absolute_error: 0.0702 - val_mean_absolute_percentage_error: 34.8815 - val_cosine_proximity: -1.0000\n",
      "Epoch 43/200\n"
     ]
    },
    {
     "name": "stdout",
     "output_type": "stream",
     "text": [
      "52304/52304 [==============================] - 2s 41us/step - loss: 0.0079 - mean_squared_error: 0.0079 - mean_absolute_error: 0.0720 - mean_absolute_percentage_error: 36.8603 - cosine_proximity: -1.0000 - val_loss: 0.0076 - val_mean_squared_error: 0.0076 - val_mean_absolute_error: 0.0708 - val_mean_absolute_percentage_error: 37.2113 - val_cosine_proximity: -1.0000\n",
      "Epoch 44/200\n",
      "52304/52304 [==============================] - 2s 40us/step - loss: 0.0079 - mean_squared_error: 0.0079 - mean_absolute_error: 0.0716 - mean_absolute_percentage_error: 36.6640 - cosine_proximity: -1.0000 - val_loss: 0.0076 - val_mean_squared_error: 0.0076 - val_mean_absolute_error: 0.0703 - val_mean_absolute_percentage_error: 34.8824 - val_cosine_proximity: -1.0000\n",
      "Epoch 45/200\n",
      "52304/52304 [==============================] - 2s 40us/step - loss: 0.0079 - mean_squared_error: 0.0079 - mean_absolute_error: 0.0718 - mean_absolute_percentage_error: 36.7363 - cosine_proximity: -1.0000 - val_loss: 0.0078 - val_mean_squared_error: 0.0078 - val_mean_absolute_error: 0.0717 - val_mean_absolute_percentage_error: 38.7578 - val_cosine_proximity: -1.0000\n",
      "Epoch 46/200\n",
      "52304/52304 [==============================] - 2s 40us/step - loss: 0.0079 - mean_squared_error: 0.0079 - mean_absolute_error: 0.0718 - mean_absolute_percentage_error: 36.7335 - cosine_proximity: -1.0000 - val_loss: 0.0076 - val_mean_squared_error: 0.0076 - val_mean_absolute_error: 0.0700 - val_mean_absolute_percentage_error: 34.5363 - val_cosine_proximity: -1.0000\n",
      "Epoch 47/200\n",
      "52304/52304 [==============================] - 2s 40us/step - loss: 0.0079 - mean_squared_error: 0.0079 - mean_absolute_error: 0.0716 - mean_absolute_percentage_error: 36.6329 - cosine_proximity: -1.0000 - val_loss: 0.0076 - val_mean_squared_error: 0.0076 - val_mean_absolute_error: 0.0702 - val_mean_absolute_percentage_error: 35.4410 - val_cosine_proximity: -1.0000\n",
      "Epoch 48/200\n",
      "52304/52304 [==============================] - 2s 41us/step - loss: 0.0079 - mean_squared_error: 0.0079 - mean_absolute_error: 0.0716 - mean_absolute_percentage_error: 36.6525 - cosine_proximity: -1.0000 - val_loss: 0.0076 - val_mean_squared_error: 0.0076 - val_mean_absolute_error: 0.0700 - val_mean_absolute_percentage_error: 34.8816 - val_cosine_proximity: -1.0000\n",
      "Epoch 49/200\n",
      "52304/52304 [==============================] - 2s 40us/step - loss: 0.0079 - mean_squared_error: 0.0079 - mean_absolute_error: 0.0716 - mean_absolute_percentage_error: 36.7096 - cosine_proximity: -1.0000 - val_loss: 0.0076 - val_mean_squared_error: 0.0076 - val_mean_absolute_error: 0.0705 - val_mean_absolute_percentage_error: 35.8240 - val_cosine_proximity: -1.0000\n",
      "Epoch 50/200\n",
      "52304/52304 [==============================] - 2s 41us/step - loss: 0.0078 - mean_squared_error: 0.0078 - mean_absolute_error: 0.0716 - mean_absolute_percentage_error: 36.6318 - cosine_proximity: -1.0000 - val_loss: 0.0077 - val_mean_squared_error: 0.0077 - val_mean_absolute_error: 0.0704 - val_mean_absolute_percentage_error: 33.6508 - val_cosine_proximity: -1.0000\n",
      "Epoch 51/200\n",
      "52304/52304 [==============================] - 2s 40us/step - loss: 0.0078 - mean_squared_error: 0.0078 - mean_absolute_error: 0.0713 - mean_absolute_percentage_error: 36.4654 - cosine_proximity: -1.0000 - val_loss: 0.0075 - val_mean_squared_error: 0.0075 - val_mean_absolute_error: 0.0702 - val_mean_absolute_percentage_error: 36.3253 - val_cosine_proximity: -1.0000\n",
      "Epoch 52/200\n",
      "52304/52304 [==============================] - 2s 40us/step - loss: 0.0078 - mean_squared_error: 0.0078 - mean_absolute_error: 0.0711 - mean_absolute_percentage_error: 36.4522 - cosine_proximity: -1.0000 - val_loss: 0.0077 - val_mean_squared_error: 0.0077 - val_mean_absolute_error: 0.0708 - val_mean_absolute_percentage_error: 36.0867 - val_cosine_proximity: -1.0000\n",
      "Epoch 53/200\n",
      "52304/52304 [==============================] - 2s 41us/step - loss: 0.0078 - mean_squared_error: 0.0078 - mean_absolute_error: 0.0712 - mean_absolute_percentage_error: 36.4517 - cosine_proximity: -1.0000 - val_loss: 0.0076 - val_mean_squared_error: 0.0076 - val_mean_absolute_error: 0.0707 - val_mean_absolute_percentage_error: 35.6503 - val_cosine_proximity: -1.0000\n",
      "Epoch 54/200\n",
      "52304/52304 [==============================] - 2s 40us/step - loss: 0.0078 - mean_squared_error: 0.0078 - mean_absolute_error: 0.0715 - mean_absolute_percentage_error: 36.5253 - cosine_proximity: -1.0000 - val_loss: 0.0075 - val_mean_squared_error: 0.0075 - val_mean_absolute_error: 0.0700 - val_mean_absolute_percentage_error: 35.2087 - val_cosine_proximity: -1.0000\n",
      "Epoch 55/200\n",
      "52304/52304 [==============================] - 2s 40us/step - loss: 0.0078 - mean_squared_error: 0.0078 - mean_absolute_error: 0.0711 - mean_absolute_percentage_error: 36.4136 - cosine_proximity: -1.0000 - val_loss: 0.0076 - val_mean_squared_error: 0.0076 - val_mean_absolute_error: 0.0702 - val_mean_absolute_percentage_error: 35.1880 - val_cosine_proximity: -1.0000\n",
      "Epoch 56/200\n",
      "52304/52304 [==============================] - 2s 40us/step - loss: 0.0078 - mean_squared_error: 0.0078 - mean_absolute_error: 0.0711 - mean_absolute_percentage_error: 36.3839 - cosine_proximity: -1.0000 - val_loss: 0.0076 - val_mean_squared_error: 0.0076 - val_mean_absolute_error: 0.0702 - val_mean_absolute_percentage_error: 35.0013 - val_cosine_proximity: -1.0000\n",
      "Epoch 57/200\n",
      "52304/52304 [==============================] - 2s 40us/step - loss: 0.0078 - mean_squared_error: 0.0078 - mean_absolute_error: 0.0711 - mean_absolute_percentage_error: 36.3655 - cosine_proximity: -1.0000 - val_loss: 0.0077 - val_mean_squared_error: 0.0077 - val_mean_absolute_error: 0.0712 - val_mean_absolute_percentage_error: 37.5477 - val_cosine_proximity: -1.0000\n",
      "Epoch 58/200\n",
      "52304/52304 [==============================] - 2s 41us/step - loss: 0.0078 - mean_squared_error: 0.0078 - mean_absolute_error: 0.0712 - mean_absolute_percentage_error: 36.3284 - cosine_proximity: -1.0000 - val_loss: 0.0076 - val_mean_squared_error: 0.0076 - val_mean_absolute_error: 0.0711 - val_mean_absolute_percentage_error: 37.9557 - val_cosine_proximity: -1.0000\n",
      "Epoch 59/200\n",
      "52304/52304 [==============================] - 2s 39us/step - loss: 0.0077 - mean_squared_error: 0.0077 - mean_absolute_error: 0.0709 - mean_absolute_percentage_error: 36.2660 - cosine_proximity: -1.0000 - val_loss: 0.0076 - val_mean_squared_error: 0.0076 - val_mean_absolute_error: 0.0706 - val_mean_absolute_percentage_error: 36.8851 - val_cosine_proximity: -1.0000\n",
      "Epoch 60/200\n",
      "52304/52304 [==============================] - 2s 41us/step - loss: 0.0078 - mean_squared_error: 0.0078 - mean_absolute_error: 0.0713 - mean_absolute_percentage_error: 36.4429 - cosine_proximity: -1.0000 - val_loss: 0.0075 - val_mean_squared_error: 0.0075 - val_mean_absolute_error: 0.0700 - val_mean_absolute_percentage_error: 36.1550 - val_cosine_proximity: -1.0000\n",
      "Epoch 61/200\n",
      "52304/52304 [==============================] - 2s 40us/step - loss: 0.0078 - mean_squared_error: 0.0078 - mean_absolute_error: 0.0712 - mean_absolute_percentage_error: 36.3528 - cosine_proximity: -1.0000 - val_loss: 0.0077 - val_mean_squared_error: 0.0077 - val_mean_absolute_error: 0.0713 - val_mean_absolute_percentage_error: 37.3663 - val_cosine_proximity: -1.0000\n",
      "Epoch 62/200\n",
      "52304/52304 [==============================] - 2s 40us/step - loss: 0.0077 - mean_squared_error: 0.0077 - mean_absolute_error: 0.0710 - mean_absolute_percentage_error: 36.2981 - cosine_proximity: -1.0000 - val_loss: 0.0077 - val_mean_squared_error: 0.0077 - val_mean_absolute_error: 0.0705 - val_mean_absolute_percentage_error: 33.7727 - val_cosine_proximity: -1.0000\n",
      "Epoch 63/200\n",
      "52304/52304 [==============================] - 2s 40us/step - loss: 0.0077 - mean_squared_error: 0.0077 - mean_absolute_error: 0.0709 - mean_absolute_percentage_error: 36.2387 - cosine_proximity: -1.0000 - val_loss: 0.0075 - val_mean_squared_error: 0.0075 - val_mean_absolute_error: 0.0701 - val_mean_absolute_percentage_error: 36.4359 - val_cosine_proximity: -1.0000\n",
      "Epoch 64/200\n"
     ]
    },
    {
     "name": "stdout",
     "output_type": "stream",
     "text": [
      "52304/52304 [==============================] - 2s 41us/step - loss: 0.0077 - mean_squared_error: 0.0077 - mean_absolute_error: 0.0708 - mean_absolute_percentage_error: 36.1841 - cosine_proximity: -1.0000 - val_loss: 0.0075 - val_mean_squared_error: 0.0075 - val_mean_absolute_error: 0.0699 - val_mean_absolute_percentage_error: 34.9788 - val_cosine_proximity: -1.0000\n",
      "Epoch 65/200\n",
      "52304/52304 [==============================] - 2s 40us/step - loss: 0.0077 - mean_squared_error: 0.0077 - mean_absolute_error: 0.0709 - mean_absolute_percentage_error: 36.2009 - cosine_proximity: -1.0000 - val_loss: 0.0075 - val_mean_squared_error: 0.0075 - val_mean_absolute_error: 0.0703 - val_mean_absolute_percentage_error: 36.7093 - val_cosine_proximity: -1.0000\n",
      "Epoch 66/200\n",
      "52304/52304 [==============================] - 2s 40us/step - loss: 0.0077 - mean_squared_error: 0.0077 - mean_absolute_error: 0.0708 - mean_absolute_percentage_error: 36.1308 - cosine_proximity: -1.0000 - val_loss: 0.0078 - val_mean_squared_error: 0.0078 - val_mean_absolute_error: 0.0705 - val_mean_absolute_percentage_error: 34.2933 - val_cosine_proximity: -1.0000\n",
      "Epoch 67/200\n",
      "52304/52304 [==============================] - 2s 40us/step - loss: 0.0077 - mean_squared_error: 0.0077 - mean_absolute_error: 0.0709 - mean_absolute_percentage_error: 36.2174 - cosine_proximity: -1.0000 - val_loss: 0.0075 - val_mean_squared_error: 0.0075 - val_mean_absolute_error: 0.0698 - val_mean_absolute_percentage_error: 35.2973 - val_cosine_proximity: -1.0000\n",
      "Epoch 68/200\n",
      "52304/52304 [==============================] - 2s 40us/step - loss: 0.0077 - mean_squared_error: 0.0077 - mean_absolute_error: 0.0711 - mean_absolute_percentage_error: 36.3194 - cosine_proximity: -1.0000 - val_loss: 0.0075 - val_mean_squared_error: 0.0075 - val_mean_absolute_error: 0.0696 - val_mean_absolute_percentage_error: 34.5674 - val_cosine_proximity: -1.0000\n",
      "Epoch 69/200\n",
      "52304/52304 [==============================] - 2s 40us/step - loss: 0.0077 - mean_squared_error: 0.0077 - mean_absolute_error: 0.0708 - mean_absolute_percentage_error: 36.1790 - cosine_proximity: -1.0000 - val_loss: 0.0077 - val_mean_squared_error: 0.0077 - val_mean_absolute_error: 0.0716 - val_mean_absolute_percentage_error: 38.1831 - val_cosine_proximity: -1.0000\n",
      "Epoch 70/200\n",
      "52304/52304 [==============================] - 2s 40us/step - loss: 0.0076 - mean_squared_error: 0.0076 - mean_absolute_error: 0.0706 - mean_absolute_percentage_error: 36.0750 - cosine_proximity: -1.0000 - val_loss: 0.0076 - val_mean_squared_error: 0.0076 - val_mean_absolute_error: 0.0702 - val_mean_absolute_percentage_error: 36.1765 - val_cosine_proximity: -1.0000\n",
      "Epoch 71/200\n",
      "52304/52304 [==============================] - 2s 40us/step - loss: 0.0076 - mean_squared_error: 0.0076 - mean_absolute_error: 0.0706 - mean_absolute_percentage_error: 36.1168 - cosine_proximity: -1.0000 - val_loss: 0.0082 - val_mean_squared_error: 0.0082 - val_mean_absolute_error: 0.0719 - val_mean_absolute_percentage_error: 32.4532 - val_cosine_proximity: -1.0000\n",
      "Epoch 72/200\n",
      "52304/52304 [==============================] - 2s 40us/step - loss: 0.0077 - mean_squared_error: 0.0077 - mean_absolute_error: 0.0709 - mean_absolute_percentage_error: 36.0869 - cosine_proximity: -1.0000 - val_loss: 0.0075 - val_mean_squared_error: 0.0075 - val_mean_absolute_error: 0.0706 - val_mean_absolute_percentage_error: 37.5324 - val_cosine_proximity: -1.0000\n",
      "Epoch 73/200\n",
      "52304/52304 [==============================] - 2s 41us/step - loss: 0.0077 - mean_squared_error: 0.0077 - mean_absolute_error: 0.0709 - mean_absolute_percentage_error: 36.1900 - cosine_proximity: -1.0000 - val_loss: 0.0075 - val_mean_squared_error: 0.0075 - val_mean_absolute_error: 0.0703 - val_mean_absolute_percentage_error: 36.9566 - val_cosine_proximity: -1.0000\n",
      "Epoch 74/200\n",
      "52304/52304 [==============================] - 2s 40us/step - loss: 0.0076 - mean_squared_error: 0.0076 - mean_absolute_error: 0.0705 - mean_absolute_percentage_error: 35.9729 - cosine_proximity: -1.0000 - val_loss: 0.0076 - val_mean_squared_error: 0.0076 - val_mean_absolute_error: 0.0708 - val_mean_absolute_percentage_error: 36.3356 - val_cosine_proximity: -1.0000\n",
      "Epoch 75/200\n",
      "52304/52304 [==============================] - 2s 40us/step - loss: 0.0077 - mean_squared_error: 0.0077 - mean_absolute_error: 0.0707 - mean_absolute_percentage_error: 36.0650 - cosine_proximity: -1.0000 - val_loss: 0.0076 - val_mean_squared_error: 0.0076 - val_mean_absolute_error: 0.0714 - val_mean_absolute_percentage_error: 38.4531 - val_cosine_proximity: -1.0000\n",
      "Epoch 76/200\n",
      "52304/52304 [==============================] - 2s 40us/step - loss: 0.0077 - mean_squared_error: 0.0077 - mean_absolute_error: 0.0707 - mean_absolute_percentage_error: 36.0978 - cosine_proximity: -1.0000 - val_loss: 0.0075 - val_mean_squared_error: 0.0075 - val_mean_absolute_error: 0.0702 - val_mean_absolute_percentage_error: 37.2463 - val_cosine_proximity: -1.0000\n",
      "Epoch 77/200\n",
      "52304/52304 [==============================] - 2s 41us/step - loss: 0.0076 - mean_squared_error: 0.0076 - mean_absolute_error: 0.0707 - mean_absolute_percentage_error: 35.9678 - cosine_proximity: -1.0000 - val_loss: 0.0080 - val_mean_squared_error: 0.0080 - val_mean_absolute_error: 0.0710 - val_mean_absolute_percentage_error: 32.9175 - val_cosine_proximity: -1.0000\n",
      "Epoch 78/200\n",
      "52304/52304 [==============================] - 2s 40us/step - loss: 0.0076 - mean_squared_error: 0.0076 - mean_absolute_error: 0.0703 - mean_absolute_percentage_error: 35.8433 - cosine_proximity: -1.0000 - val_loss: 0.0074 - val_mean_squared_error: 0.0074 - val_mean_absolute_error: 0.0694 - val_mean_absolute_percentage_error: 34.6384 - val_cosine_proximity: -1.0000\n",
      "Epoch 79/200\n",
      "52304/52304 [==============================] - 2s 41us/step - loss: 0.0076 - mean_squared_error: 0.0076 - mean_absolute_error: 0.0703 - mean_absolute_percentage_error: 35.9038 - cosine_proximity: -1.0000 - val_loss: 0.0075 - val_mean_squared_error: 0.0075 - val_mean_absolute_error: 0.0703 - val_mean_absolute_percentage_error: 37.3671 - val_cosine_proximity: -1.0000\n",
      "Epoch 80/200\n",
      "52304/52304 [==============================] - 2s 40us/step - loss: 0.0076 - mean_squared_error: 0.0076 - mean_absolute_error: 0.0705 - mean_absolute_percentage_error: 35.9643 - cosine_proximity: -1.0000 - val_loss: 0.0074 - val_mean_squared_error: 0.0074 - val_mean_absolute_error: 0.0697 - val_mean_absolute_percentage_error: 34.9370 - val_cosine_proximity: -1.0000\n",
      "Epoch 81/200\n",
      "52304/52304 [==============================] - 2s 40us/step - loss: 0.0076 - mean_squared_error: 0.0076 - mean_absolute_error: 0.0704 - mean_absolute_percentage_error: 35.8565 - cosine_proximity: -1.0000 - val_loss: 0.0076 - val_mean_squared_error: 0.0076 - val_mean_absolute_error: 0.0704 - val_mean_absolute_percentage_error: 35.8118 - val_cosine_proximity: -1.0000\n",
      "Epoch 82/200\n",
      "52304/52304 [==============================] - 2s 40us/step - loss: 0.0076 - mean_squared_error: 0.0076 - mean_absolute_error: 0.0703 - mean_absolute_percentage_error: 35.8534 - cosine_proximity: -1.0000 - val_loss: 0.0074 - val_mean_squared_error: 0.0074 - val_mean_absolute_error: 0.0695 - val_mean_absolute_percentage_error: 35.2161 - val_cosine_proximity: -1.0000\n",
      "Epoch 83/200\n",
      "52304/52304 [==============================] - 2s 41us/step - loss: 0.0076 - mean_squared_error: 0.0076 - mean_absolute_error: 0.0705 - mean_absolute_percentage_error: 35.9520 - cosine_proximity: -1.0000 - val_loss: 0.0074 - val_mean_squared_error: 0.0074 - val_mean_absolute_error: 0.0695 - val_mean_absolute_percentage_error: 35.2418 - val_cosine_proximity: -1.0000\n",
      "Epoch 84/200\n",
      "52304/52304 [==============================] - 2s 40us/step - loss: 0.0075 - mean_squared_error: 0.0075 - mean_absolute_error: 0.0701 - mean_absolute_percentage_error: 35.7362 - cosine_proximity: -1.0000 - val_loss: 0.0074 - val_mean_squared_error: 0.0074 - val_mean_absolute_error: 0.0694 - val_mean_absolute_percentage_error: 35.3453 - val_cosine_proximity: -1.0000\n",
      "Epoch 85/200\n"
     ]
    },
    {
     "name": "stdout",
     "output_type": "stream",
     "text": [
      "52304/52304 [==============================] - 2s 41us/step - loss: 0.0076 - mean_squared_error: 0.0076 - mean_absolute_error: 0.0702 - mean_absolute_percentage_error: 35.7662 - cosine_proximity: -1.0000 - val_loss: 0.0073 - val_mean_squared_error: 0.0073 - val_mean_absolute_error: 0.0689 - val_mean_absolute_percentage_error: 34.1025 - val_cosine_proximity: -1.0000\n",
      "Epoch 86/200\n",
      "52304/52304 [==============================] - 2s 40us/step - loss: 0.0076 - mean_squared_error: 0.0076 - mean_absolute_error: 0.0703 - mean_absolute_percentage_error: 35.8392 - cosine_proximity: -1.0000 - val_loss: 0.0074 - val_mean_squared_error: 0.0074 - val_mean_absolute_error: 0.0692 - val_mean_absolute_percentage_error: 34.7102 - val_cosine_proximity: -1.0000\n",
      "Epoch 87/200\n",
      "52304/52304 [==============================] - 2s 40us/step - loss: 0.0076 - mean_squared_error: 0.0076 - mean_absolute_error: 0.0704 - mean_absolute_percentage_error: 35.8329 - cosine_proximity: -1.0000 - val_loss: 0.0074 - val_mean_squared_error: 0.0074 - val_mean_absolute_error: 0.0699 - val_mean_absolute_percentage_error: 35.6196 - val_cosine_proximity: -1.0000\n",
      "Epoch 88/200\n",
      "52304/52304 [==============================] - 2s 40us/step - loss: 0.0075 - mean_squared_error: 0.0075 - mean_absolute_error: 0.0702 - mean_absolute_percentage_error: 35.7666 - cosine_proximity: -1.0000 - val_loss: 0.0074 - val_mean_squared_error: 0.0074 - val_mean_absolute_error: 0.0698 - val_mean_absolute_percentage_error: 36.4165 - val_cosine_proximity: -1.0000\n",
      "Epoch 89/200\n",
      "52304/52304 [==============================] - 2s 41us/step - loss: 0.0076 - mean_squared_error: 0.0076 - mean_absolute_error: 0.0702 - mean_absolute_percentage_error: 35.8026 - cosine_proximity: -1.0000 - val_loss: 0.0074 - val_mean_squared_error: 0.0074 - val_mean_absolute_error: 0.0693 - val_mean_absolute_percentage_error: 34.0989 - val_cosine_proximity: -1.0000\n",
      "Epoch 90/200\n",
      "52304/52304 [==============================] - 2s 40us/step - loss: 0.0076 - mean_squared_error: 0.0076 - mean_absolute_error: 0.0703 - mean_absolute_percentage_error: 35.7863 - cosine_proximity: -1.0000 - val_loss: 0.0074 - val_mean_squared_error: 0.0074 - val_mean_absolute_error: 0.0698 - val_mean_absolute_percentage_error: 37.1997 - val_cosine_proximity: -1.0000\n",
      "Epoch 91/200\n",
      "52304/52304 [==============================] - 2s 40us/step - loss: 0.0075 - mean_squared_error: 0.0075 - mean_absolute_error: 0.0702 - mean_absolute_percentage_error: 35.6521 - cosine_proximity: -1.0000 - val_loss: 0.0073 - val_mean_squared_error: 0.0073 - val_mean_absolute_error: 0.0691 - val_mean_absolute_percentage_error: 34.1112 - val_cosine_proximity: -1.0000\n",
      "Epoch 92/200\n",
      "52304/52304 [==============================] - 2s 40us/step - loss: 0.0076 - mean_squared_error: 0.0076 - mean_absolute_error: 0.0702 - mean_absolute_percentage_error: 35.7936 - cosine_proximity: -1.0000 - val_loss: 0.0074 - val_mean_squared_error: 0.0074 - val_mean_absolute_error: 0.0701 - val_mean_absolute_percentage_error: 36.9713 - val_cosine_proximity: -1.0000\n",
      "Epoch 93/200\n",
      "52304/52304 [==============================] - 2s 41us/step - loss: 0.0075 - mean_squared_error: 0.0075 - mean_absolute_error: 0.0701 - mean_absolute_percentage_error: 35.6664 - cosine_proximity: -1.0000 - val_loss: 0.0074 - val_mean_squared_error: 0.0074 - val_mean_absolute_error: 0.0699 - val_mean_absolute_percentage_error: 36.2276 - val_cosine_proximity: -1.0000\n",
      "Epoch 94/200\n",
      "52304/52304 [==============================] - 2s 40us/step - loss: 0.0075 - mean_squared_error: 0.0075 - mean_absolute_error: 0.0702 - mean_absolute_percentage_error: 35.6817 - cosine_proximity: -1.0000 - val_loss: 0.0074 - val_mean_squared_error: 0.0074 - val_mean_absolute_error: 0.0700 - val_mean_absolute_percentage_error: 37.1119 - val_cosine_proximity: -1.0000\n",
      "Epoch 95/200\n",
      "52304/52304 [==============================] - 2s 41us/step - loss: 0.0075 - mean_squared_error: 0.0075 - mean_absolute_error: 0.0701 - mean_absolute_percentage_error: 35.6967 - cosine_proximity: -1.0000 - val_loss: 0.0074 - val_mean_squared_error: 0.0074 - val_mean_absolute_error: 0.0695 - val_mean_absolute_percentage_error: 34.9333 - val_cosine_proximity: -1.0000\n",
      "Epoch 96/200\n",
      "52304/52304 [==============================] - 2s 41us/step - loss: 0.0075 - mean_squared_error: 0.0075 - mean_absolute_error: 0.0701 - mean_absolute_percentage_error: 35.7344 - cosine_proximity: -1.0000 - val_loss: 0.0075 - val_mean_squared_error: 0.0075 - val_mean_absolute_error: 0.0698 - val_mean_absolute_percentage_error: 35.3789 - val_cosine_proximity: -1.0000\n",
      "Epoch 97/200\n",
      "52304/52304 [==============================] - 2s 40us/step - loss: 0.0075 - mean_squared_error: 0.0075 - mean_absolute_error: 0.0701 - mean_absolute_percentage_error: 35.6643 - cosine_proximity: -1.0000 - val_loss: 0.0076 - val_mean_squared_error: 0.0076 - val_mean_absolute_error: 0.0709 - val_mean_absolute_percentage_error: 37.8801 - val_cosine_proximity: -1.0000\n",
      "Epoch 98/200\n",
      "52304/52304 [==============================] - 2s 40us/step - loss: 0.0075 - mean_squared_error: 0.0075 - mean_absolute_error: 0.0698 - mean_absolute_percentage_error: 35.5632 - cosine_proximity: -1.0000 - val_loss: 0.0076 - val_mean_squared_error: 0.0076 - val_mean_absolute_error: 0.0709 - val_mean_absolute_percentage_error: 37.7264 - val_cosine_proximity: -1.0000\n",
      "Epoch 99/200\n",
      "52304/52304 [==============================] - 2s 40us/step - loss: 0.0075 - mean_squared_error: 0.0075 - mean_absolute_error: 0.0700 - mean_absolute_percentage_error: 35.6782 - cosine_proximity: -1.0000 - val_loss: 0.0076 - val_mean_squared_error: 0.0076 - val_mean_absolute_error: 0.0705 - val_mean_absolute_percentage_error: 35.1924 - val_cosine_proximity: -1.0000\n",
      "Epoch 100/200\n",
      "52304/52304 [==============================] - 2s 39us/step - loss: 0.0075 - mean_squared_error: 0.0075 - mean_absolute_error: 0.0698 - mean_absolute_percentage_error: 35.5285 - cosine_proximity: -1.0000 - val_loss: 0.0073 - val_mean_squared_error: 0.0073 - val_mean_absolute_error: 0.0692 - val_mean_absolute_percentage_error: 35.3409 - val_cosine_proximity: -1.0000\n",
      "Epoch 101/200\n",
      "52304/52304 [==============================] - 2s 41us/step - loss: 0.0075 - mean_squared_error: 0.0075 - mean_absolute_error: 0.0698 - mean_absolute_percentage_error: 35.4942 - cosine_proximity: -1.0000 - val_loss: 0.0073 - val_mean_squared_error: 0.0073 - val_mean_absolute_error: 0.0690 - val_mean_absolute_percentage_error: 35.0315 - val_cosine_proximity: -1.0000\n",
      "Epoch 102/200\n",
      "52304/52304 [==============================] - 2s 41us/step - loss: 0.0075 - mean_squared_error: 0.0075 - mean_absolute_error: 0.0700 - mean_absolute_percentage_error: 35.6303 - cosine_proximity: -1.0000 - val_loss: 0.0074 - val_mean_squared_error: 0.0074 - val_mean_absolute_error: 0.0701 - val_mean_absolute_percentage_error: 37.1133 - val_cosine_proximity: -1.0000\n",
      "Epoch 103/200\n",
      "52304/52304 [==============================] - 2s 41us/step - loss: 0.0075 - mean_squared_error: 0.0075 - mean_absolute_error: 0.0699 - mean_absolute_percentage_error: 35.5576 - cosine_proximity: -1.0000 - val_loss: 0.0073 - val_mean_squared_error: 0.0073 - val_mean_absolute_error: 0.0690 - val_mean_absolute_percentage_error: 35.0163 - val_cosine_proximity: -1.0000\n",
      "Epoch 104/200\n",
      "52304/52304 [==============================] - 2s 41us/step - loss: 0.0075 - mean_squared_error: 0.0075 - mean_absolute_error: 0.0699 - mean_absolute_percentage_error: 35.5310 - cosine_proximity: -1.0000 - val_loss: 0.0073 - val_mean_squared_error: 0.0073 - val_mean_absolute_error: 0.0690 - val_mean_absolute_percentage_error: 34.7296 - val_cosine_proximity: -1.0000\n",
      "Epoch 105/200\n",
      "52304/52304 [==============================] - 2s 41us/step - loss: 0.0075 - mean_squared_error: 0.0075 - mean_absolute_error: 0.0698 - mean_absolute_percentage_error: 35.4480 - cosine_proximity: -1.0000 - val_loss: 0.0076 - val_mean_squared_error: 0.0076 - val_mean_absolute_error: 0.0707 - val_mean_absolute_percentage_error: 37.7124 - val_cosine_proximity: -1.0000\n",
      "Epoch 106/200\n"
     ]
    },
    {
     "name": "stdout",
     "output_type": "stream",
     "text": [
      "52304/52304 [==============================] - 2s 41us/step - loss: 0.0075 - mean_squared_error: 0.0075 - mean_absolute_error: 0.0697 - mean_absolute_percentage_error: 35.4600 - cosine_proximity: -1.0000 - val_loss: 0.0073 - val_mean_squared_error: 0.0073 - val_mean_absolute_error: 0.0691 - val_mean_absolute_percentage_error: 34.8745 - val_cosine_proximity: -1.0000\n",
      "Epoch 107/200\n",
      "52304/52304 [==============================] - 2s 40us/step - loss: 0.0075 - mean_squared_error: 0.0075 - mean_absolute_error: 0.0698 - mean_absolute_percentage_error: 35.5346 - cosine_proximity: -1.0000 - val_loss: 0.0074 - val_mean_squared_error: 0.0074 - val_mean_absolute_error: 0.0701 - val_mean_absolute_percentage_error: 37.0656 - val_cosine_proximity: -1.0000\n",
      "Epoch 108/200\n",
      "52304/52304 [==============================] - 2s 40us/step - loss: 0.0074 - mean_squared_error: 0.0074 - mean_absolute_error: 0.0697 - mean_absolute_percentage_error: 35.5309 - cosine_proximity: -1.0000 - val_loss: 0.0074 - val_mean_squared_error: 0.0074 - val_mean_absolute_error: 0.0691 - val_mean_absolute_percentage_error: 33.8688 - val_cosine_proximity: -1.0000\n",
      "Epoch 109/200\n",
      "52304/52304 [==============================] - 2s 40us/step - loss: 0.0074 - mean_squared_error: 0.0074 - mean_absolute_error: 0.0696 - mean_absolute_percentage_error: 35.4418 - cosine_proximity: -1.0000 - val_loss: 0.0073 - val_mean_squared_error: 0.0073 - val_mean_absolute_error: 0.0691 - val_mean_absolute_percentage_error: 34.7305 - val_cosine_proximity: -1.0000\n",
      "Epoch 110/200\n",
      "52304/52304 [==============================] - 2s 41us/step - loss: 0.0074 - mean_squared_error: 0.0074 - mean_absolute_error: 0.0697 - mean_absolute_percentage_error: 35.4610 - cosine_proximity: -1.0000 - val_loss: 0.0073 - val_mean_squared_error: 0.0073 - val_mean_absolute_error: 0.0691 - val_mean_absolute_percentage_error: 35.0501 - val_cosine_proximity: -1.0000\n",
      "Epoch 111/200\n",
      "52304/52304 [==============================] - 2s 40us/step - loss: 0.0075 - mean_squared_error: 0.0075 - mean_absolute_error: 0.0699 - mean_absolute_percentage_error: 35.5415 - cosine_proximity: -1.0000 - val_loss: 0.0073 - val_mean_squared_error: 0.0073 - val_mean_absolute_error: 0.0689 - val_mean_absolute_percentage_error: 33.4840 - val_cosine_proximity: -1.0000\n",
      "Epoch 112/200\n",
      "52304/52304 [==============================] - 2s 40us/step - loss: 0.0075 - mean_squared_error: 0.0075 - mean_absolute_error: 0.0698 - mean_absolute_percentage_error: 35.5503 - cosine_proximity: -1.0000 - val_loss: 0.0073 - val_mean_squared_error: 0.0073 - val_mean_absolute_error: 0.0691 - val_mean_absolute_percentage_error: 34.7273 - val_cosine_proximity: -1.0000\n",
      "Epoch 113/200\n",
      "52304/52304 [==============================] - 2s 39us/step - loss: 0.0074 - mean_squared_error: 0.0074 - mean_absolute_error: 0.0698 - mean_absolute_percentage_error: 35.5381 - cosine_proximity: -1.0000 - val_loss: 0.0073 - val_mean_squared_error: 0.0073 - val_mean_absolute_error: 0.0692 - val_mean_absolute_percentage_error: 35.4905 - val_cosine_proximity: -1.0000\n",
      "Epoch 114/200\n",
      "52304/52304 [==============================] - 2s 40us/step - loss: 0.0075 - mean_squared_error: 0.0075 - mean_absolute_error: 0.0699 - mean_absolute_percentage_error: 35.5422 - cosine_proximity: -1.0000 - val_loss: 0.0073 - val_mean_squared_error: 0.0073 - val_mean_absolute_error: 0.0689 - val_mean_absolute_percentage_error: 33.6331 - val_cosine_proximity: -1.0000\n",
      "Epoch 115/200\n",
      "52304/52304 [==============================] - 2s 40us/step - loss: 0.0075 - mean_squared_error: 0.0075 - mean_absolute_error: 0.0698 - mean_absolute_percentage_error: 35.5642 - cosine_proximity: -1.0000 - val_loss: 0.0073 - val_mean_squared_error: 0.0073 - val_mean_absolute_error: 0.0692 - val_mean_absolute_percentage_error: 34.1379 - val_cosine_proximity: -1.0000\n",
      "Epoch 116/200\n",
      "52304/52304 [==============================] - 2s 40us/step - loss: 0.0074 - mean_squared_error: 0.0074 - mean_absolute_error: 0.0696 - mean_absolute_percentage_error: 35.3634 - cosine_proximity: -1.0000 - val_loss: 0.0073 - val_mean_squared_error: 0.0073 - val_mean_absolute_error: 0.0691 - val_mean_absolute_percentage_error: 34.1187 - val_cosine_proximity: -1.0000\n",
      "Epoch 117/200\n",
      "52304/52304 [==============================] - 2s 41us/step - loss: 0.0074 - mean_squared_error: 0.0074 - mean_absolute_error: 0.0696 - mean_absolute_percentage_error: 35.4350 - cosine_proximity: -1.0000 - val_loss: 0.0073 - val_mean_squared_error: 0.0073 - val_mean_absolute_error: 0.0693 - val_mean_absolute_percentage_error: 35.4388 - val_cosine_proximity: -1.0000\n",
      "Epoch 118/200\n",
      "52304/52304 [==============================] - 2s 40us/step - loss: 0.0074 - mean_squared_error: 0.0074 - mean_absolute_error: 0.0696 - mean_absolute_percentage_error: 35.4386 - cosine_proximity: -1.0000 - val_loss: 0.0072 - val_mean_squared_error: 0.0072 - val_mean_absolute_error: 0.0690 - val_mean_absolute_percentage_error: 35.6390 - val_cosine_proximity: -1.0000\n",
      "Epoch 119/200\n",
      "52304/52304 [==============================] - 2s 41us/step - loss: 0.0074 - mean_squared_error: 0.0074 - mean_absolute_error: 0.0696 - mean_absolute_percentage_error: 35.4241 - cosine_proximity: -1.0000 - val_loss: 0.0073 - val_mean_squared_error: 0.0073 - val_mean_absolute_error: 0.0691 - val_mean_absolute_percentage_error: 35.2338 - val_cosine_proximity: -1.0000\n",
      "Epoch 120/200\n",
      "52304/52304 [==============================] - 2s 41us/step - loss: 0.0074 - mean_squared_error: 0.0074 - mean_absolute_error: 0.0695 - mean_absolute_percentage_error: 35.3823 - cosine_proximity: -1.0000 - val_loss: 0.0073 - val_mean_squared_error: 0.0073 - val_mean_absolute_error: 0.0689 - val_mean_absolute_percentage_error: 34.1528 - val_cosine_proximity: -1.0000\n",
      "Epoch 121/200\n",
      "52304/52304 [==============================] - 2s 42us/step - loss: 0.0074 - mean_squared_error: 0.0074 - mean_absolute_error: 0.0694 - mean_absolute_percentage_error: 35.3016 - cosine_proximity: -1.0000 - val_loss: 0.0075 - val_mean_squared_error: 0.0075 - val_mean_absolute_error: 0.0704 - val_mean_absolute_percentage_error: 37.9771 - val_cosine_proximity: -1.0000\n",
      "Epoch 122/200\n",
      "52304/52304 [==============================] - 2s 41us/step - loss: 0.0074 - mean_squared_error: 0.0074 - mean_absolute_error: 0.0695 - mean_absolute_percentage_error: 35.3496 - cosine_proximity: -1.0000 - val_loss: 0.0073 - val_mean_squared_error: 0.0073 - val_mean_absolute_error: 0.0690 - val_mean_absolute_percentage_error: 35.0640 - val_cosine_proximity: -1.0000\n",
      "Epoch 123/200\n",
      "52304/52304 [==============================] - 2s 41us/step - loss: 0.0074 - mean_squared_error: 0.0074 - mean_absolute_error: 0.0696 - mean_absolute_percentage_error: 35.3998 - cosine_proximity: -1.0000 - val_loss: 0.0073 - val_mean_squared_error: 0.0073 - val_mean_absolute_error: 0.0693 - val_mean_absolute_percentage_error: 35.9480 - val_cosine_proximity: -1.0000\n",
      "Epoch 124/200\n",
      "52304/52304 [==============================] - 2s 41us/step - loss: 0.0075 - mean_squared_error: 0.0075 - mean_absolute_error: 0.0697 - mean_absolute_percentage_error: 35.4549 - cosine_proximity: -1.0000 - val_loss: 0.0073 - val_mean_squared_error: 0.0073 - val_mean_absolute_error: 0.0690 - val_mean_absolute_percentage_error: 33.9275 - val_cosine_proximity: -1.0000\n",
      "Epoch 125/200\n",
      "52304/52304 [==============================] - 2s 40us/step - loss: 0.0074 - mean_squared_error: 0.0074 - mean_absolute_error: 0.0695 - mean_absolute_percentage_error: 35.3982 - cosine_proximity: -1.0000 - val_loss: 0.0073 - val_mean_squared_error: 0.0073 - val_mean_absolute_error: 0.0697 - val_mean_absolute_percentage_error: 36.6994 - val_cosine_proximity: -1.0000\n",
      "Epoch 126/200\n",
      "52304/52304 [==============================] - 2s 41us/step - loss: 0.0074 - mean_squared_error: 0.0074 - mean_absolute_error: 0.0694 - mean_absolute_percentage_error: 35.3047 - cosine_proximity: -1.0000 - val_loss: 0.0073 - val_mean_squared_error: 0.0073 - val_mean_absolute_error: 0.0696 - val_mean_absolute_percentage_error: 36.3715 - val_cosine_proximity: -1.0000\n",
      "Epoch 127/200\n"
     ]
    },
    {
     "name": "stdout",
     "output_type": "stream",
     "text": [
      "52304/52304 [==============================] - 2s 41us/step - loss: 0.0074 - mean_squared_error: 0.0074 - mean_absolute_error: 0.0696 - mean_absolute_percentage_error: 35.3995 - cosine_proximity: -1.0000 - val_loss: 0.0072 - val_mean_squared_error: 0.0072 - val_mean_absolute_error: 0.0687 - val_mean_absolute_percentage_error: 34.5980 - val_cosine_proximity: -1.0000\n",
      "Epoch 128/200\n",
      "52304/52304 [==============================] - 2s 41us/step - loss: 0.0074 - mean_squared_error: 0.0074 - mean_absolute_error: 0.0694 - mean_absolute_percentage_error: 35.2447 - cosine_proximity: -1.0000 - val_loss: 0.0074 - val_mean_squared_error: 0.0074 - val_mean_absolute_error: 0.0694 - val_mean_absolute_percentage_error: 34.8080 - val_cosine_proximity: -1.0000\n",
      "Epoch 129/200\n",
      "52304/52304 [==============================] - 2s 41us/step - loss: 0.0074 - mean_squared_error: 0.0074 - mean_absolute_error: 0.0696 - mean_absolute_percentage_error: 35.3280 - cosine_proximity: -1.0000 - val_loss: 0.0073 - val_mean_squared_error: 0.0073 - val_mean_absolute_error: 0.0695 - val_mean_absolute_percentage_error: 36.7664 - val_cosine_proximity: -1.0000\n",
      "Epoch 130/200\n",
      "52304/52304 [==============================] - 2s 40us/step - loss: 0.0074 - mean_squared_error: 0.0074 - mean_absolute_error: 0.0697 - mean_absolute_percentage_error: 35.3946 - cosine_proximity: -1.0000 - val_loss: 0.0078 - val_mean_squared_error: 0.0078 - val_mean_absolute_error: 0.0727 - val_mean_absolute_percentage_error: 40.4662 - val_cosine_proximity: -1.0000\n",
      "Epoch 131/200\n",
      "52304/52304 [==============================] - 2s 41us/step - loss: 0.0074 - mean_squared_error: 0.0074 - mean_absolute_error: 0.0697 - mean_absolute_percentage_error: 35.4340 - cosine_proximity: -1.0000 - val_loss: 0.0073 - val_mean_squared_error: 0.0073 - val_mean_absolute_error: 0.0688 - val_mean_absolute_percentage_error: 34.1090 - val_cosine_proximity: -1.0000\n",
      "Epoch 132/200\n",
      "52304/52304 [==============================] - 2s 40us/step - loss: 0.0074 - mean_squared_error: 0.0074 - mean_absolute_error: 0.0692 - mean_absolute_percentage_error: 35.1398 - cosine_proximity: -1.0000 - val_loss: 0.0072 - val_mean_squared_error: 0.0072 - val_mean_absolute_error: 0.0690 - val_mean_absolute_percentage_error: 35.6524 - val_cosine_proximity: -1.0000\n",
      "Epoch 133/200\n",
      "52304/52304 [==============================] - 2s 41us/step - loss: 0.0074 - mean_squared_error: 0.0074 - mean_absolute_error: 0.0696 - mean_absolute_percentage_error: 35.4115 - cosine_proximity: -1.0000 - val_loss: 0.0073 - val_mean_squared_error: 0.0073 - val_mean_absolute_error: 0.0694 - val_mean_absolute_percentage_error: 36.3467 - val_cosine_proximity: -1.0000\n",
      "Epoch 134/200\n",
      "52304/52304 [==============================] - 2s 40us/step - loss: 0.0074 - mean_squared_error: 0.0074 - mean_absolute_error: 0.0696 - mean_absolute_percentage_error: 35.3622 - cosine_proximity: -1.0000 - val_loss: 0.0073 - val_mean_squared_error: 0.0073 - val_mean_absolute_error: 0.0692 - val_mean_absolute_percentage_error: 35.1122 - val_cosine_proximity: -1.0000\n",
      "Epoch 135/200\n",
      "52304/52304 [==============================] - 2s 41us/step - loss: 0.0074 - mean_squared_error: 0.0074 - mean_absolute_error: 0.0693 - mean_absolute_percentage_error: 35.2198 - cosine_proximity: -1.0000 - val_loss: 0.0075 - val_mean_squared_error: 0.0075 - val_mean_absolute_error: 0.0707 - val_mean_absolute_percentage_error: 38.1275 - val_cosine_proximity: -1.0000\n",
      "Epoch 136/200\n",
      "52304/52304 [==============================] - 2s 41us/step - loss: 0.0074 - mean_squared_error: 0.0074 - mean_absolute_error: 0.0695 - mean_absolute_percentage_error: 35.2994 - cosine_proximity: -1.0000 - val_loss: 0.0073 - val_mean_squared_error: 0.0073 - val_mean_absolute_error: 0.0694 - val_mean_absolute_percentage_error: 35.4539 - val_cosine_proximity: -1.0000\n",
      "Epoch 137/200\n",
      "52304/52304 [==============================] - 2s 42us/step - loss: 0.0074 - mean_squared_error: 0.0074 - mean_absolute_error: 0.0695 - mean_absolute_percentage_error: 35.2682 - cosine_proximity: -1.0000 - val_loss: 0.0073 - val_mean_squared_error: 0.0073 - val_mean_absolute_error: 0.0695 - val_mean_absolute_percentage_error: 36.6896 - val_cosine_proximity: -1.0000\n",
      "Epoch 138/200\n",
      "52304/52304 [==============================] - 2s 41us/step - loss: 0.0074 - mean_squared_error: 0.0074 - mean_absolute_error: 0.0697 - mean_absolute_percentage_error: 35.3345 - cosine_proximity: -1.0000 - val_loss: 0.0073 - val_mean_squared_error: 0.0073 - val_mean_absolute_error: 0.0694 - val_mean_absolute_percentage_error: 36.2281 - val_cosine_proximity: -1.0000\n",
      "Epoch 139/200\n",
      "52304/52304 [==============================] - 2s 40us/step - loss: 0.0074 - mean_squared_error: 0.0074 - mean_absolute_error: 0.0694 - mean_absolute_percentage_error: 35.2804 - cosine_proximity: -1.0000 - val_loss: 0.0073 - val_mean_squared_error: 0.0073 - val_mean_absolute_error: 0.0692 - val_mean_absolute_percentage_error: 35.8586 - val_cosine_proximity: -1.0000\n",
      "Epoch 140/200\n",
      "52304/52304 [==============================] - 2s 41us/step - loss: 0.0074 - mean_squared_error: 0.0074 - mean_absolute_error: 0.0696 - mean_absolute_percentage_error: 35.3540 - cosine_proximity: -1.0000 - val_loss: 0.0075 - val_mean_squared_error: 0.0075 - val_mean_absolute_error: 0.0708 - val_mean_absolute_percentage_error: 37.7543 - val_cosine_proximity: -1.0000\n",
      "Epoch 141/200\n",
      "52304/52304 [==============================] - 2s 41us/step - loss: 0.0074 - mean_squared_error: 0.0074 - mean_absolute_error: 0.0695 - mean_absolute_percentage_error: 35.2673 - cosine_proximity: -1.0000 - val_loss: 0.0072 - val_mean_squared_error: 0.0072 - val_mean_absolute_error: 0.0690 - val_mean_absolute_percentage_error: 35.4765 - val_cosine_proximity: -1.0000\n",
      "Epoch 142/200\n",
      "52304/52304 [==============================] - 2s 41us/step - loss: 0.0074 - mean_squared_error: 0.0074 - mean_absolute_error: 0.0695 - mean_absolute_percentage_error: 35.2594 - cosine_proximity: -1.0000 - val_loss: 0.0073 - val_mean_squared_error: 0.0073 - val_mean_absolute_error: 0.0692 - val_mean_absolute_percentage_error: 35.8735 - val_cosine_proximity: -1.0000\n",
      "Epoch 143/200\n",
      "52304/52304 [==============================] - 2s 41us/step - loss: 0.0073 - mean_squared_error: 0.0073 - mean_absolute_error: 0.0692 - mean_absolute_percentage_error: 35.1536 - cosine_proximity: -1.0000 - val_loss: 0.0074 - val_mean_squared_error: 0.0074 - val_mean_absolute_error: 0.0697 - val_mean_absolute_percentage_error: 35.6107 - val_cosine_proximity: -1.0000\n",
      "Epoch 144/200\n",
      "52304/52304 [==============================] - 2s 40us/step - loss: 0.0074 - mean_squared_error: 0.0074 - mean_absolute_error: 0.0693 - mean_absolute_percentage_error: 35.1661 - cosine_proximity: -1.0000 - val_loss: 0.0072 - val_mean_squared_error: 0.0072 - val_mean_absolute_error: 0.0690 - val_mean_absolute_percentage_error: 35.1882 - val_cosine_proximity: -1.0000\n",
      "Epoch 145/200\n",
      "52304/52304 [==============================] - 2s 41us/step - loss: 0.0073 - mean_squared_error: 0.0073 - mean_absolute_error: 0.0691 - mean_absolute_percentage_error: 35.1430 - cosine_proximity: -1.0000 - val_loss: 0.0072 - val_mean_squared_error: 0.0072 - val_mean_absolute_error: 0.0692 - val_mean_absolute_percentage_error: 36.2078 - val_cosine_proximity: -1.0000\n",
      "Epoch 146/200\n",
      "52304/52304 [==============================] - 2s 41us/step - loss: 0.0074 - mean_squared_error: 0.0074 - mean_absolute_error: 0.0694 - mean_absolute_percentage_error: 35.1833 - cosine_proximity: -1.0000 - val_loss: 0.0075 - val_mean_squared_error: 0.0075 - val_mean_absolute_error: 0.0706 - val_mean_absolute_percentage_error: 37.7952 - val_cosine_proximity: -1.0000\n",
      "Epoch 147/200\n",
      "52304/52304 [==============================] - 2s 41us/step - loss: 0.0074 - mean_squared_error: 0.0074 - mean_absolute_error: 0.0693 - mean_absolute_percentage_error: 35.1776 - cosine_proximity: -1.0000 - val_loss: 0.0076 - val_mean_squared_error: 0.0076 - val_mean_absolute_error: 0.0714 - val_mean_absolute_percentage_error: 38.9056 - val_cosine_proximity: -1.0000\n",
      "Epoch 148/200\n"
     ]
    },
    {
     "name": "stdout",
     "output_type": "stream",
     "text": [
      "52304/52304 [==============================] - 2s 41us/step - loss: 0.0073 - mean_squared_error: 0.0073 - mean_absolute_error: 0.0692 - mean_absolute_percentage_error: 35.1315 - cosine_proximity: -1.0000 - val_loss: 0.0073 - val_mean_squared_error: 0.0073 - val_mean_absolute_error: 0.0694 - val_mean_absolute_percentage_error: 35.7647 - val_cosine_proximity: -1.0000\n",
      "Epoch 149/200\n",
      "52304/52304 [==============================] - 2s 41us/step - loss: 0.0074 - mean_squared_error: 0.0074 - mean_absolute_error: 0.0692 - mean_absolute_percentage_error: 35.1690 - cosine_proximity: -1.0000 - val_loss: 0.0072 - val_mean_squared_error: 0.0072 - val_mean_absolute_error: 0.0687 - val_mean_absolute_percentage_error: 34.8682 - val_cosine_proximity: -1.0000\n",
      "Epoch 150/200\n",
      "52304/52304 [==============================] - 2s 40us/step - loss: 0.0074 - mean_squared_error: 0.0074 - mean_absolute_error: 0.0695 - mean_absolute_percentage_error: 35.2116 - cosine_proximity: -1.0000 - val_loss: 0.0073 - val_mean_squared_error: 0.0073 - val_mean_absolute_error: 0.0692 - val_mean_absolute_percentage_error: 36.0751 - val_cosine_proximity: -1.0000\n",
      "Epoch 151/200\n",
      "52304/52304 [==============================] - 2s 40us/step - loss: 0.0073 - mean_squared_error: 0.0073 - mean_absolute_error: 0.0692 - mean_absolute_percentage_error: 35.1058 - cosine_proximity: -1.0000 - val_loss: 0.0074 - val_mean_squared_error: 0.0074 - val_mean_absolute_error: 0.0690 - val_mean_absolute_percentage_error: 32.7825 - val_cosine_proximity: -1.0000\n",
      "Epoch 152/200\n",
      "52304/52304 [==============================] - 2s 41us/step - loss: 0.0073 - mean_squared_error: 0.0073 - mean_absolute_error: 0.0693 - mean_absolute_percentage_error: 35.2097 - cosine_proximity: -1.0000 - val_loss: 0.0074 - val_mean_squared_error: 0.0074 - val_mean_absolute_error: 0.0692 - val_mean_absolute_percentage_error: 33.6463 - val_cosine_proximity: -1.0000\n",
      "Epoch 153/200\n",
      "52304/52304 [==============================] - 2s 41us/step - loss: 0.0073 - mean_squared_error: 0.0073 - mean_absolute_error: 0.0691 - mean_absolute_percentage_error: 35.0856 - cosine_proximity: -1.0000 - val_loss: 0.0073 - val_mean_squared_error: 0.0073 - val_mean_absolute_error: 0.0691 - val_mean_absolute_percentage_error: 34.7029 - val_cosine_proximity: -1.0000\n",
      "Epoch 154/200\n",
      "52304/52304 [==============================] - 2s 41us/step - loss: 0.0073 - mean_squared_error: 0.0073 - mean_absolute_error: 0.0691 - mean_absolute_percentage_error: 35.0540 - cosine_proximity: -1.0000 - val_loss: 0.0072 - val_mean_squared_error: 0.0072 - val_mean_absolute_error: 0.0685 - val_mean_absolute_percentage_error: 34.0622 - val_cosine_proximity: -1.0000\n",
      "Epoch 155/200\n",
      "52304/52304 [==============================] - 2s 41us/step - loss: 0.0074 - mean_squared_error: 0.0074 - mean_absolute_error: 0.0693 - mean_absolute_percentage_error: 35.1891 - cosine_proximity: -1.0000 - val_loss: 0.0073 - val_mean_squared_error: 0.0073 - val_mean_absolute_error: 0.0692 - val_mean_absolute_percentage_error: 35.9278 - val_cosine_proximity: -1.0000\n",
      "Epoch 156/200\n",
      "52304/52304 [==============================] - 2s 41us/step - loss: 0.0073 - mean_squared_error: 0.0073 - mean_absolute_error: 0.0690 - mean_absolute_percentage_error: 35.0927 - cosine_proximity: -1.0000 - val_loss: 0.0073 - val_mean_squared_error: 0.0073 - val_mean_absolute_error: 0.0693 - val_mean_absolute_percentage_error: 36.2754 - val_cosine_proximity: -1.0000\n",
      "Epoch 157/200\n",
      "52304/52304 [==============================] - 2s 41us/step - loss: 0.0073 - mean_squared_error: 0.0073 - mean_absolute_error: 0.0693 - mean_absolute_percentage_error: 35.1812 - cosine_proximity: -1.0000 - val_loss: 0.0073 - val_mean_squared_error: 0.0073 - val_mean_absolute_error: 0.0689 - val_mean_absolute_percentage_error: 33.5947 - val_cosine_proximity: -1.0000\n",
      "Epoch 158/200\n",
      "52304/52304 [==============================] - 2s 41us/step - loss: 0.0074 - mean_squared_error: 0.0074 - mean_absolute_error: 0.0693 - mean_absolute_percentage_error: 35.1455 - cosine_proximity: -1.0000 - val_loss: 0.0073 - val_mean_squared_error: 0.0073 - val_mean_absolute_error: 0.0694 - val_mean_absolute_percentage_error: 36.1721 - val_cosine_proximity: -1.0000\n",
      "Epoch 159/200\n",
      "52304/52304 [==============================] - 2s 42us/step - loss: 0.0074 - mean_squared_error: 0.0074 - mean_absolute_error: 0.0694 - mean_absolute_percentage_error: 35.2017 - cosine_proximity: -1.0000 - val_loss: 0.0072 - val_mean_squared_error: 0.0072 - val_mean_absolute_error: 0.0690 - val_mean_absolute_percentage_error: 35.6110 - val_cosine_proximity: -1.0000\n",
      "Epoch 160/200\n",
      "52304/52304 [==============================] - 2s 43us/step - loss: 0.0073 - mean_squared_error: 0.0073 - mean_absolute_error: 0.0692 - mean_absolute_percentage_error: 35.1482 - cosine_proximity: -1.0000 - val_loss: 0.0072 - val_mean_squared_error: 0.0072 - val_mean_absolute_error: 0.0688 - val_mean_absolute_percentage_error: 34.8810 - val_cosine_proximity: -1.0000\n",
      "Epoch 161/200\n",
      "52304/52304 [==============================] - 2s 43us/step - loss: 0.0074 - mean_squared_error: 0.0074 - mean_absolute_error: 0.0693 - mean_absolute_percentage_error: 35.1114 - cosine_proximity: -1.0000 - val_loss: 0.0072 - val_mean_squared_error: 0.0072 - val_mean_absolute_error: 0.0693 - val_mean_absolute_percentage_error: 36.3822 - val_cosine_proximity: -1.0000\n",
      "Epoch 162/200\n",
      "52304/52304 [==============================] - 2s 42us/step - loss: 0.0073 - mean_squared_error: 0.0073 - mean_absolute_error: 0.0691 - mean_absolute_percentage_error: 35.0821 - cosine_proximity: -1.0000 - val_loss: 0.0072 - val_mean_squared_error: 0.0072 - val_mean_absolute_error: 0.0684 - val_mean_absolute_percentage_error: 33.8474 - val_cosine_proximity: -1.0000\n",
      "Epoch 163/200\n",
      "52304/52304 [==============================] - 2s 43us/step - loss: 0.0073 - mean_squared_error: 0.0073 - mean_absolute_error: 0.0690 - mean_absolute_percentage_error: 35.0268 - cosine_proximity: -1.0000 - val_loss: 0.0072 - val_mean_squared_error: 0.0072 - val_mean_absolute_error: 0.0689 - val_mean_absolute_percentage_error: 35.3261 - val_cosine_proximity: -1.0000\n",
      "Epoch 164/200\n",
      "52304/52304 [==============================] - 2s 42us/step - loss: 0.0073 - mean_squared_error: 0.0073 - mean_absolute_error: 0.0691 - mean_absolute_percentage_error: 35.1150 - cosine_proximity: -1.0000 - val_loss: 0.0072 - val_mean_squared_error: 0.0072 - val_mean_absolute_error: 0.0686 - val_mean_absolute_percentage_error: 33.9373 - val_cosine_proximity: -1.0000\n",
      "Epoch 165/200\n",
      "52304/52304 [==============================] - 2s 42us/step - loss: 0.0073 - mean_squared_error: 0.0073 - mean_absolute_error: 0.0691 - mean_absolute_percentage_error: 35.0613 - cosine_proximity: -1.0000 - val_loss: 0.0072 - val_mean_squared_error: 0.0072 - val_mean_absolute_error: 0.0694 - val_mean_absolute_percentage_error: 36.5015 - val_cosine_proximity: -1.0000\n",
      "Epoch 166/200\n",
      "52304/52304 [==============================] - 2s 42us/step - loss: 0.0073 - mean_squared_error: 0.0073 - mean_absolute_error: 0.0690 - mean_absolute_percentage_error: 35.0069 - cosine_proximity: -1.0000 - val_loss: 0.0073 - val_mean_squared_error: 0.0073 - val_mean_absolute_error: 0.0688 - val_mean_absolute_percentage_error: 33.5289 - val_cosine_proximity: -1.0000\n",
      "Epoch 167/200\n",
      "52304/52304 [==============================] - 2s 42us/step - loss: 0.0073 - mean_squared_error: 0.0073 - mean_absolute_error: 0.0692 - mean_absolute_percentage_error: 35.1314 - cosine_proximity: -1.0000 - val_loss: 0.0074 - val_mean_squared_error: 0.0074 - val_mean_absolute_error: 0.0703 - val_mean_absolute_percentage_error: 38.1240 - val_cosine_proximity: -1.0000\n",
      "Epoch 168/200\n",
      "52304/52304 [==============================] - 2s 42us/step - loss: 0.0073 - mean_squared_error: 0.0073 - mean_absolute_error: 0.0690 - mean_absolute_percentage_error: 35.0015 - cosine_proximity: -1.0000 - val_loss: 0.0075 - val_mean_squared_error: 0.0075 - val_mean_absolute_error: 0.0705 - val_mean_absolute_percentage_error: 38.0706 - val_cosine_proximity: -1.0000\n",
      "Epoch 169/200\n"
     ]
    },
    {
     "name": "stdout",
     "output_type": "stream",
     "text": [
      "52304/52304 [==============================] - 2s 41us/step - loss: 0.0074 - mean_squared_error: 0.0074 - mean_absolute_error: 0.0694 - mean_absolute_percentage_error: 35.1831 - cosine_proximity: -1.0000 - val_loss: 0.0074 - val_mean_squared_error: 0.0074 - val_mean_absolute_error: 0.0693 - val_mean_absolute_percentage_error: 33.9521 - val_cosine_proximity: -1.0000\n",
      "Epoch 170/200\n",
      "52304/52304 [==============================] - 2s 40us/step - loss: 0.0073 - mean_squared_error: 0.0073 - mean_absolute_error: 0.0690 - mean_absolute_percentage_error: 35.0337 - cosine_proximity: -1.0000 - val_loss: 0.0073 - val_mean_squared_error: 0.0073 - val_mean_absolute_error: 0.0687 - val_mean_absolute_percentage_error: 32.9728 - val_cosine_proximity: -1.0000\n",
      "Epoch 171/200\n",
      "52304/52304 [==============================] - 2s 41us/step - loss: 0.0073 - mean_squared_error: 0.0073 - mean_absolute_error: 0.0689 - mean_absolute_percentage_error: 34.9649 - cosine_proximity: -1.0000 - val_loss: 0.0072 - val_mean_squared_error: 0.0072 - val_mean_absolute_error: 0.0687 - val_mean_absolute_percentage_error: 35.4588 - val_cosine_proximity: -1.0000\n",
      "Epoch 172/200\n",
      "52304/52304 [==============================] - 2s 41us/step - loss: 0.0073 - mean_squared_error: 0.0073 - mean_absolute_error: 0.0691 - mean_absolute_percentage_error: 35.0685 - cosine_proximity: -1.0000 - val_loss: 0.0072 - val_mean_squared_error: 0.0072 - val_mean_absolute_error: 0.0689 - val_mean_absolute_percentage_error: 35.1061 - val_cosine_proximity: -1.0000\n",
      "Epoch 173/200\n",
      "52304/52304 [==============================] - 2s 41us/step - loss: 0.0073 - mean_squared_error: 0.0073 - mean_absolute_error: 0.0690 - mean_absolute_percentage_error: 35.0736 - cosine_proximity: -1.0000 - val_loss: 0.0075 - val_mean_squared_error: 0.0075 - val_mean_absolute_error: 0.0694 - val_mean_absolute_percentage_error: 32.7011 - val_cosine_proximity: -1.0000\n",
      "Epoch 174/200\n",
      "52304/52304 [==============================] - 2s 41us/step - loss: 0.0073 - mean_squared_error: 0.0073 - mean_absolute_error: 0.0692 - mean_absolute_percentage_error: 35.0374 - cosine_proximity: -1.0000 - val_loss: 0.0073 - val_mean_squared_error: 0.0073 - val_mean_absolute_error: 0.0694 - val_mean_absolute_percentage_error: 35.8446 - val_cosine_proximity: -1.0000\n",
      "Epoch 175/200\n",
      "52304/52304 [==============================] - 2s 41us/step - loss: 0.0074 - mean_squared_error: 0.0074 - mean_absolute_error: 0.0692 - mean_absolute_percentage_error: 35.1282 - cosine_proximity: -1.0000 - val_loss: 0.0073 - val_mean_squared_error: 0.0073 - val_mean_absolute_error: 0.0691 - val_mean_absolute_percentage_error: 35.1677 - val_cosine_proximity: -1.0000\n",
      "Epoch 176/200\n",
      "52304/52304 [==============================] - 2s 41us/step - loss: 0.0073 - mean_squared_error: 0.0073 - mean_absolute_error: 0.0692 - mean_absolute_percentage_error: 35.0449 - cosine_proximity: -1.0000 - val_loss: 0.0072 - val_mean_squared_error: 0.0072 - val_mean_absolute_error: 0.0685 - val_mean_absolute_percentage_error: 33.4466 - val_cosine_proximity: -1.0000\n",
      "Epoch 177/200\n",
      "52304/52304 [==============================] - 2s 40us/step - loss: 0.0073 - mean_squared_error: 0.0073 - mean_absolute_error: 0.0692 - mean_absolute_percentage_error: 35.0778 - cosine_proximity: -1.0000 - val_loss: 0.0075 - val_mean_squared_error: 0.0075 - val_mean_absolute_error: 0.0693 - val_mean_absolute_percentage_error: 32.7227 - val_cosine_proximity: -1.0000\n",
      "Epoch 178/200\n",
      "52304/52304 [==============================] - 2s 43us/step - loss: 0.0072 - mean_squared_error: 0.0072 - mean_absolute_error: 0.0689 - mean_absolute_percentage_error: 34.9401 - cosine_proximity: -1.0000 - val_loss: 0.0072 - val_mean_squared_error: 0.0072 - val_mean_absolute_error: 0.0686 - val_mean_absolute_percentage_error: 33.8598 - val_cosine_proximity: -1.0000\n",
      "Epoch 179/200\n",
      "52304/52304 [==============================] - 2s 43us/step - loss: 0.0073 - mean_squared_error: 0.0073 - mean_absolute_error: 0.0692 - mean_absolute_percentage_error: 35.1265 - cosine_proximity: -1.0000 - val_loss: 0.0072 - val_mean_squared_error: 0.0072 - val_mean_absolute_error: 0.0688 - val_mean_absolute_percentage_error: 35.4601 - val_cosine_proximity: -1.0000\n",
      "Epoch 180/200\n",
      "52304/52304 [==============================] - 2s 42us/step - loss: 0.0073 - mean_squared_error: 0.0073 - mean_absolute_error: 0.0689 - mean_absolute_percentage_error: 34.9240 - cosine_proximity: -1.0000 - val_loss: 0.0074 - val_mean_squared_error: 0.0074 - val_mean_absolute_error: 0.0691 - val_mean_absolute_percentage_error: 32.5855 - val_cosine_proximity: -1.0000\n",
      "Epoch 181/200\n",
      "52304/52304 [==============================] - 2s 42us/step - loss: 0.0073 - mean_squared_error: 0.0073 - mean_absolute_error: 0.0691 - mean_absolute_percentage_error: 34.9892 - cosine_proximity: -1.0000 - val_loss: 0.0072 - val_mean_squared_error: 0.0072 - val_mean_absolute_error: 0.0686 - val_mean_absolute_percentage_error: 33.3219 - val_cosine_proximity: -1.0000\n",
      "Epoch 182/200\n",
      "52304/52304 [==============================] - 2s 42us/step - loss: 0.0072 - mean_squared_error: 0.0072 - mean_absolute_error: 0.0688 - mean_absolute_percentage_error: 34.8742 - cosine_proximity: -1.0000 - val_loss: 0.0075 - val_mean_squared_error: 0.0075 - val_mean_absolute_error: 0.0704 - val_mean_absolute_percentage_error: 38.0427 - val_cosine_proximity: -1.0000\n",
      "Epoch 183/200\n",
      "52304/52304 [==============================] - 2s 42us/step - loss: 0.0073 - mean_squared_error: 0.0073 - mean_absolute_error: 0.0692 - mean_absolute_percentage_error: 35.1197 - cosine_proximity: -1.0000 - val_loss: 0.0074 - val_mean_squared_error: 0.0074 - val_mean_absolute_error: 0.0692 - val_mean_absolute_percentage_error: 32.8451 - val_cosine_proximity: -1.0000\n",
      "Epoch 184/200\n",
      "52304/52304 [==============================] - 2s 42us/step - loss: 0.0072 - mean_squared_error: 0.0072 - mean_absolute_error: 0.0687 - mean_absolute_percentage_error: 34.8726 - cosine_proximity: -1.0000 - val_loss: 0.0074 - val_mean_squared_error: 0.0074 - val_mean_absolute_error: 0.0694 - val_mean_absolute_percentage_error: 33.9178 - val_cosine_proximity: -1.0000\n",
      "Epoch 185/200\n",
      "52304/52304 [==============================] - 2s 41us/step - loss: 0.0072 - mean_squared_error: 0.0072 - mean_absolute_error: 0.0688 - mean_absolute_percentage_error: 34.8218 - cosine_proximity: -1.0000 - val_loss: 0.0073 - val_mean_squared_error: 0.0073 - val_mean_absolute_error: 0.0695 - val_mean_absolute_percentage_error: 36.2245 - val_cosine_proximity: -1.0000\n",
      "Epoch 186/200\n",
      "52304/52304 [==============================] - 2s 40us/step - loss: 0.0073 - mean_squared_error: 0.0073 - mean_absolute_error: 0.0691 - mean_absolute_percentage_error: 35.0348 - cosine_proximity: -1.0000 - val_loss: 0.0072 - val_mean_squared_error: 0.0072 - val_mean_absolute_error: 0.0689 - val_mean_absolute_percentage_error: 35.7967 - val_cosine_proximity: -1.0000\n",
      "Epoch 187/200\n",
      "52304/52304 [==============================] - 2s 41us/step - loss: 0.0073 - mean_squared_error: 0.0073 - mean_absolute_error: 0.0689 - mean_absolute_percentage_error: 34.9271 - cosine_proximity: -1.0000 - val_loss: 0.0073 - val_mean_squared_error: 0.0073 - val_mean_absolute_error: 0.0691 - val_mean_absolute_percentage_error: 33.5457 - val_cosine_proximity: -1.0000\n",
      "Epoch 188/200\n",
      "52304/52304 [==============================] - 2s 40us/step - loss: 0.0073 - mean_squared_error: 0.0073 - mean_absolute_error: 0.0689 - mean_absolute_percentage_error: 34.9232 - cosine_proximity: -1.0000 - val_loss: 0.0073 - val_mean_squared_error: 0.0073 - val_mean_absolute_error: 0.0688 - val_mean_absolute_percentage_error: 34.7033 - val_cosine_proximity: -1.0000\n",
      "Epoch 189/200\n",
      "52304/52304 [==============================] - 2s 40us/step - loss: 0.0073 - mean_squared_error: 0.0073 - mean_absolute_error: 0.0689 - mean_absolute_percentage_error: 34.9512 - cosine_proximity: -1.0000 - val_loss: 0.0075 - val_mean_squared_error: 0.0075 - val_mean_absolute_error: 0.0703 - val_mean_absolute_percentage_error: 37.0826 - val_cosine_proximity: -1.0000\n",
      "Epoch 190/200\n"
     ]
    },
    {
     "name": "stdout",
     "output_type": "stream",
     "text": [
      "52304/52304 [==============================] - 2s 40us/step - loss: 0.0073 - mean_squared_error: 0.0073 - mean_absolute_error: 0.0689 - mean_absolute_percentage_error: 34.9455 - cosine_proximity: -1.0000 - val_loss: 0.0071 - val_mean_squared_error: 0.0071 - val_mean_absolute_error: 0.0685 - val_mean_absolute_percentage_error: 34.6278 - val_cosine_proximity: -1.0000\n",
      "Epoch 191/200\n",
      "52304/52304 [==============================] - 2s 40us/step - loss: 0.0073 - mean_squared_error: 0.0073 - mean_absolute_error: 0.0689 - mean_absolute_percentage_error: 34.9759 - cosine_proximity: -1.0000 - val_loss: 0.0072 - val_mean_squared_error: 0.0072 - val_mean_absolute_error: 0.0686 - val_mean_absolute_percentage_error: 33.6300 - val_cosine_proximity: -1.0000\n",
      "Epoch 192/200\n",
      "52304/52304 [==============================] - 2s 41us/step - loss: 0.0073 - mean_squared_error: 0.0073 - mean_absolute_error: 0.0689 - mean_absolute_percentage_error: 34.9420 - cosine_proximity: -1.0000 - val_loss: 0.0072 - val_mean_squared_error: 0.0072 - val_mean_absolute_error: 0.0686 - val_mean_absolute_percentage_error: 34.2510 - val_cosine_proximity: -1.0000\n",
      "Epoch 193/200\n",
      "52304/52304 [==============================] - 2s 42us/step - loss: 0.0073 - mean_squared_error: 0.0073 - mean_absolute_error: 0.0690 - mean_absolute_percentage_error: 34.9822 - cosine_proximity: -1.0000 - val_loss: 0.0072 - val_mean_squared_error: 0.0072 - val_mean_absolute_error: 0.0685 - val_mean_absolute_percentage_error: 34.7394 - val_cosine_proximity: -1.0000\n",
      "Epoch 194/200\n",
      "52304/52304 [==============================] - 2s 43us/step - loss: 0.0073 - mean_squared_error: 0.0073 - mean_absolute_error: 0.0689 - mean_absolute_percentage_error: 34.9536 - cosine_proximity: -1.0000 - val_loss: 0.0076 - val_mean_squared_error: 0.0076 - val_mean_absolute_error: 0.0704 - val_mean_absolute_percentage_error: 37.0913 - val_cosine_proximity: -1.0000\n",
      "Epoch 195/200\n",
      "52304/52304 [==============================] - 2s 42us/step - loss: 0.0073 - mean_squared_error: 0.0073 - mean_absolute_error: 0.0689 - mean_absolute_percentage_error: 34.9878 - cosine_proximity: -1.0000 - val_loss: 0.0073 - val_mean_squared_error: 0.0073 - val_mean_absolute_error: 0.0688 - val_mean_absolute_percentage_error: 33.3576 - val_cosine_proximity: -1.0000\n",
      "Epoch 196/200\n",
      "52304/52304 [==============================] - 2s 40us/step - loss: 0.0072 - mean_squared_error: 0.0072 - mean_absolute_error: 0.0686 - mean_absolute_percentage_error: 34.7799 - cosine_proximity: -1.0000 - val_loss: 0.0072 - val_mean_squared_error: 0.0072 - val_mean_absolute_error: 0.0691 - val_mean_absolute_percentage_error: 36.2941 - val_cosine_proximity: -1.0000\n",
      "Epoch 197/200\n",
      "52304/52304 [==============================] - 2s 40us/step - loss: 0.0073 - mean_squared_error: 0.0073 - mean_absolute_error: 0.0690 - mean_absolute_percentage_error: 35.0290 - cosine_proximity: -1.0000 - val_loss: 0.0073 - val_mean_squared_error: 0.0073 - val_mean_absolute_error: 0.0693 - val_mean_absolute_percentage_error: 34.9815 - val_cosine_proximity: -1.0000\n",
      "Epoch 198/200\n",
      "52304/52304 [==============================] - 2s 40us/step - loss: 0.0073 - mean_squared_error: 0.0073 - mean_absolute_error: 0.0690 - mean_absolute_percentage_error: 35.0236 - cosine_proximity: -1.0000 - val_loss: 0.0071 - val_mean_squared_error: 0.0071 - val_mean_absolute_error: 0.0682 - val_mean_absolute_percentage_error: 34.3740 - val_cosine_proximity: -1.0000\n",
      "Epoch 199/200\n",
      "52304/52304 [==============================] - 2s 40us/step - loss: 0.0073 - mean_squared_error: 0.0073 - mean_absolute_error: 0.0689 - mean_absolute_percentage_error: 34.9387 - cosine_proximity: -1.0000 - val_loss: 0.0073 - val_mean_squared_error: 0.0073 - val_mean_absolute_error: 0.0694 - val_mean_absolute_percentage_error: 36.5052 - val_cosine_proximity: -1.0000\n",
      "Epoch 200/200\n",
      "52304/52304 [==============================] - 2s 41us/step - loss: 0.0073 - mean_squared_error: 0.0073 - mean_absolute_error: 0.0689 - mean_absolute_percentage_error: 34.9137 - cosine_proximity: -1.0000 - val_loss: 0.0073 - val_mean_squared_error: 0.0073 - val_mean_absolute_error: 0.0688 - val_mean_absolute_percentage_error: 34.2164 - val_cosine_proximity: -1.0000\n"
     ]
    }
   ],
   "source": [
    "history = model.fit(X, y, epochs=200, validation_split = 0.2, batch_size=128, verbose=1)"
   ]
  },
  {
   "cell_type": "code",
   "execution_count": 15,
   "metadata": {},
   "outputs": [
    {
     "data": {
      "image/png": "[encoded data removed]",
      "text/plain": [
       "<Figure size 432x288 with 1 Axes>"
      ]
     },
     "metadata": {
      "needs_background": "light"
     },
     "output_type": "display_data"
    }
   ],
   "source": [
    "plt.plot(history.history['mean_absolute_percentage_error'])\n",
    "plt.plot(history.history['val_mean_absolute_percentage_error'])\n",
    "plt.title('Model percentage error')\n",
    "plt.ylabel('% error')\n",
    "plt.xlabel('Epoch')\n",
    "plt.legend(['Train data % error', 'Test data % error'], loc='upper right')\n",
    "plt.show()"
   ]
  },
  {
   "cell_type": "markdown",
   "metadata": {},
   "source": [
    "The plot above shows how the model lowers the error during the learning process."
   ]
  },
  {
   "cell_type": "markdown",
   "metadata": {},
   "source": [
    "# Conclusion"
   ]
  },
  {
   "cell_type": "markdown",
   "metadata": {},
   "source": [
    "With only given dataset we can predict how long the pickup time will be with at max ~35% error. The error will decrease with extra data given in. It can be past delivery data, weather conditions, traffic in the city"
   ]
  }
 ],
 "metadata": {
  "kernelspec": {
   "display_name": "Python 3",
   "language": "python",
   "name": "python3"
  },
  "language_info": {
   "codemirror_mode": {
    "name": "ipython",
    "version": 3
   },
   "file_extension": ".py",
   "mimetype": "text/x-python",
   "name": "python",
   "nbconvert_exporter": "python",
   "pygments_lexer": "ipython3",
   "version": "3.6.7"
  }
 },
 "nbformat": 4,
 "nbformat_minor": 2
}
